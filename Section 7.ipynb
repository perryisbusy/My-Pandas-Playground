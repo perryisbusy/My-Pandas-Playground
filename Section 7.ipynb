{
 "cells": [
  {
   "cell_type": "code",
   "execution_count": 1,
   "metadata": {},
   "outputs": [
    {
     "data": {
      "text/plain": [
       "'__main__'"
      ]
     },
     "execution_count": 1,
     "metadata": {},
     "output_type": "execute_result"
    }
   ],
   "source": [
    "__name__"
   ]
  },
  {
   "cell_type": "markdown",
   "metadata": {},
   "source": [
    "# Working with string"
   ]
  },
  {
   "cell_type": "code",
   "execution_count": 5,
   "metadata": {},
   "outputs": [],
   "source": [
    "import pandas as pd"
   ]
  },
  {
   "cell_type": "code",
   "execution_count": 6,
   "metadata": {},
   "outputs": [],
   "source": [
    "chicago_location = \"/Volumes/GoogleDrive/My Drive/LIUZHICHENG/Udemy/Pandas/Data Source/pandas/chicago.csv\""
   ]
  },
  {
   "cell_type": "code",
   "execution_count": 7,
   "metadata": {},
   "outputs": [
    {
     "data": {
      "text/html": [
       "<div>\n",
       "<style scoped>\n",
       "    .dataframe tbody tr th:only-of-type {\n",
       "        vertical-align: middle;\n",
       "    }\n",
       "\n",
       "    .dataframe tbody tr th {\n",
       "        vertical-align: top;\n",
       "    }\n",
       "\n",
       "    .dataframe thead th {\n",
       "        text-align: right;\n",
       "    }\n",
       "</style>\n",
       "<table border=\"1\" class=\"dataframe\">\n",
       "  <thead>\n",
       "    <tr style=\"text-align: right;\">\n",
       "      <th></th>\n",
       "      <th>Name</th>\n",
       "      <th>Position Title</th>\n",
       "      <th>Department</th>\n",
       "      <th>Employee Annual Salary</th>\n",
       "    </tr>\n",
       "  </thead>\n",
       "  <tbody>\n",
       "    <tr>\n",
       "      <th>0</th>\n",
       "      <td>AARON,  ELVIA J</td>\n",
       "      <td>WATER RATE TAKER</td>\n",
       "      <td>WATER MGMNT</td>\n",
       "      <td>$90744.00</td>\n",
       "    </tr>\n",
       "    <tr>\n",
       "      <th>1</th>\n",
       "      <td>AARON,  JEFFERY M</td>\n",
       "      <td>POLICE OFFICER</td>\n",
       "      <td>POLICE</td>\n",
       "      <td>$84450.00</td>\n",
       "    </tr>\n",
       "    <tr>\n",
       "      <th>2</th>\n",
       "      <td>AARON,  KARINA</td>\n",
       "      <td>POLICE OFFICER</td>\n",
       "      <td>POLICE</td>\n",
       "      <td>$84450.00</td>\n",
       "    </tr>\n",
       "    <tr>\n",
       "      <th>3</th>\n",
       "      <td>AARON,  KIMBERLEI R</td>\n",
       "      <td>CHIEF CONTRACT EXPEDITER</td>\n",
       "      <td>GENERAL SERVICES</td>\n",
       "      <td>$89880.00</td>\n",
       "    </tr>\n",
       "    <tr>\n",
       "      <th>4</th>\n",
       "      <td>ABAD JR,  VICENTE M</td>\n",
       "      <td>CIVIL ENGINEER IV</td>\n",
       "      <td>WATER MGMNT</td>\n",
       "      <td>$106836.00</td>\n",
       "    </tr>\n",
       "  </tbody>\n",
       "</table>\n",
       "</div>"
      ],
      "text/plain": [
       "                  Name            Position Title        Department  \\\n",
       "0      AARON,  ELVIA J          WATER RATE TAKER       WATER MGMNT   \n",
       "1    AARON,  JEFFERY M            POLICE OFFICER            POLICE   \n",
       "2       AARON,  KARINA            POLICE OFFICER            POLICE   \n",
       "3  AARON,  KIMBERLEI R  CHIEF CONTRACT EXPEDITER  GENERAL SERVICES   \n",
       "4  ABAD JR,  VICENTE M         CIVIL ENGINEER IV       WATER MGMNT   \n",
       "\n",
       "  Employee Annual Salary  \n",
       "0              $90744.00  \n",
       "1              $84450.00  \n",
       "2              $84450.00  \n",
       "3              $89880.00  \n",
       "4             $106836.00  "
      ]
     },
     "execution_count": 7,
     "metadata": {},
     "output_type": "execute_result"
    }
   ],
   "source": [
    "chicago = pd.read_csv(filepath_or_buffer=chicago_location)\n",
    "chicago.head()"
   ]
  },
  {
   "cell_type": "code",
   "execution_count": 5,
   "metadata": {},
   "outputs": [
    {
     "name": "stdout",
     "output_type": "stream",
     "text": [
      "<class 'pandas.core.frame.DataFrame'>\n",
      "RangeIndex: 32063 entries, 0 to 32062\n",
      "Data columns (total 4 columns):\n",
      " #   Column                  Non-Null Count  Dtype \n",
      "---  ------                  --------------  ----- \n",
      " 0   Name                    32062 non-null  object\n",
      " 1   Position Title          32062 non-null  object\n",
      " 2   Department              32062 non-null  object\n",
      " 3   Employee Annual Salary  32062 non-null  object\n",
      "dtypes: object(4)\n",
      "memory usage: 1002.1+ KB\n"
     ]
    }
   ],
   "source": [
    "# 1002.1+ KB\n",
    "chicago.info()"
   ]
  },
  {
   "cell_type": "code",
   "execution_count": 6,
   "metadata": {},
   "outputs": [
    {
     "data": {
      "text/plain": [
       "Name                      31776\n",
       "Position Title             1093\n",
       "Department                   35\n",
       "Employee Annual Salary     1156\n",
       "dtype: int64"
      ]
     },
     "execution_count": 6,
     "metadata": {},
     "output_type": "execute_result"
    }
   ],
   "source": [
    "chicago.nunique()"
   ]
  },
  {
   "cell_type": "code",
   "execution_count": 7,
   "metadata": {},
   "outputs": [
    {
     "data": {
      "text/plain": [
       "Name                      1\n",
       "Position Title            1\n",
       "Department                1\n",
       "Employee Annual Salary    1\n",
       "dtype: int64"
      ]
     },
     "execution_count": 7,
     "metadata": {},
     "output_type": "execute_result"
    }
   ],
   "source": [
    "len(chicago) - chicago.count()"
   ]
  },
  {
   "cell_type": "code",
   "execution_count": 9,
   "metadata": {},
   "outputs": [
    {
     "data": {
      "text/html": [
       "<div>\n",
       "<style scoped>\n",
       "    .dataframe tbody tr th:only-of-type {\n",
       "        vertical-align: middle;\n",
       "    }\n",
       "\n",
       "    .dataframe tbody tr th {\n",
       "        vertical-align: top;\n",
       "    }\n",
       "\n",
       "    .dataframe thead th {\n",
       "        text-align: right;\n",
       "    }\n",
       "</style>\n",
       "<table border=\"1\" class=\"dataframe\">\n",
       "  <thead>\n",
       "    <tr style=\"text-align: right;\">\n",
       "      <th></th>\n",
       "      <th>Name</th>\n",
       "      <th>Position Title</th>\n",
       "      <th>Department</th>\n",
       "      <th>Employee Annual Salary</th>\n",
       "    </tr>\n",
       "  </thead>\n",
       "  <tbody>\n",
       "    <tr>\n",
       "      <th>32058</th>\n",
       "      <td>ZYGOWICZ,  PETER J</td>\n",
       "      <td>POLICE OFFICER</td>\n",
       "      <td>POLICE</td>\n",
       "      <td>$87384.00</td>\n",
       "    </tr>\n",
       "    <tr>\n",
       "      <th>32059</th>\n",
       "      <td>ZYMANTAS,  MARK E</td>\n",
       "      <td>POLICE OFFICER</td>\n",
       "      <td>POLICE</td>\n",
       "      <td>$84450.00</td>\n",
       "    </tr>\n",
       "    <tr>\n",
       "      <th>32060</th>\n",
       "      <td>ZYRKOWSKI,  CARLO E</td>\n",
       "      <td>POLICE OFFICER</td>\n",
       "      <td>POLICE</td>\n",
       "      <td>$87384.00</td>\n",
       "    </tr>\n",
       "    <tr>\n",
       "      <th>32061</th>\n",
       "      <td>ZYSKOWSKI,  DARIUSZ</td>\n",
       "      <td>CHIEF DATA BASE ANALYST</td>\n",
       "      <td>DoIT</td>\n",
       "      <td>$113664.00</td>\n",
       "    </tr>\n",
       "    <tr>\n",
       "      <th>32062</th>\n",
       "      <td>NaN</td>\n",
       "      <td>NaN</td>\n",
       "      <td>NaN</td>\n",
       "      <td>NaN</td>\n",
       "    </tr>\n",
       "  </tbody>\n",
       "</table>\n",
       "</div>"
      ],
      "text/plain": [
       "                      Name           Position Title Department  \\\n",
       "32058   ZYGOWICZ,  PETER J           POLICE OFFICER     POLICE   \n",
       "32059    ZYMANTAS,  MARK E           POLICE OFFICER     POLICE   \n",
       "32060  ZYRKOWSKI,  CARLO E           POLICE OFFICER     POLICE   \n",
       "32061  ZYSKOWSKI,  DARIUSZ  CHIEF DATA BASE ANALYST       DoIT   \n",
       "32062                  NaN                      NaN        NaN   \n",
       "\n",
       "      Employee Annual Salary  \n",
       "32058              $87384.00  \n",
       "32059              $84450.00  \n",
       "32060              $87384.00  \n",
       "32061             $113664.00  \n",
       "32062                    NaN  "
      ]
     },
     "execution_count": 9,
     "metadata": {},
     "output_type": "execute_result"
    }
   ],
   "source": [
    "chicago[\"Department\"] = chicago[\"Department\"].astype(dtype=\"category\")\n",
    "chicago[\"Position Title\"] = chicago[\"Position Title\"].astype(dtype=\"category\")\n",
    "chicago.tail()"
   ]
  },
  {
   "cell_type": "code",
   "execution_count": 12,
   "metadata": {},
   "outputs": [
    {
     "data": {
      "text/html": [
       "<div>\n",
       "<style scoped>\n",
       "    .dataframe tbody tr th:only-of-type {\n",
       "        vertical-align: middle;\n",
       "    }\n",
       "\n",
       "    .dataframe tbody tr th {\n",
       "        vertical-align: top;\n",
       "    }\n",
       "\n",
       "    .dataframe thead th {\n",
       "        text-align: right;\n",
       "    }\n",
       "</style>\n",
       "<table border=\"1\" class=\"dataframe\">\n",
       "  <thead>\n",
       "    <tr style=\"text-align: right;\">\n",
       "      <th></th>\n",
       "      <th>Name</th>\n",
       "      <th>Position Title</th>\n",
       "      <th>Department</th>\n",
       "      <th>Employee Annual Salary</th>\n",
       "    </tr>\n",
       "  </thead>\n",
       "  <tbody>\n",
       "    <tr>\n",
       "      <th>0</th>\n",
       "      <td>AARON,  ELVIA J</td>\n",
       "      <td>WATER RATE TAKER</td>\n",
       "      <td>WATER MGMNT</td>\n",
       "      <td>$90744.00</td>\n",
       "    </tr>\n",
       "    <tr>\n",
       "      <th>1</th>\n",
       "      <td>AARON,  JEFFERY M</td>\n",
       "      <td>POLICE OFFICER</td>\n",
       "      <td>POLICE</td>\n",
       "      <td>$84450.00</td>\n",
       "    </tr>\n",
       "    <tr>\n",
       "      <th>2</th>\n",
       "      <td>AARON,  KARINA</td>\n",
       "      <td>POLICE OFFICER</td>\n",
       "      <td>POLICE</td>\n",
       "      <td>$84450.00</td>\n",
       "    </tr>\n",
       "    <tr>\n",
       "      <th>3</th>\n",
       "      <td>AARON,  KIMBERLEI R</td>\n",
       "      <td>CHIEF CONTRACT EXPEDITER</td>\n",
       "      <td>GENERAL SERVICES</td>\n",
       "      <td>$89880.00</td>\n",
       "    </tr>\n",
       "    <tr>\n",
       "      <th>4</th>\n",
       "      <td>ABAD JR,  VICENTE M</td>\n",
       "      <td>CIVIL ENGINEER IV</td>\n",
       "      <td>WATER MGMNT</td>\n",
       "      <td>$106836.00</td>\n",
       "    </tr>\n",
       "  </tbody>\n",
       "</table>\n",
       "</div>"
      ],
      "text/plain": [
       "                  Name            Position Title        Department  \\\n",
       "0      AARON,  ELVIA J          WATER RATE TAKER       WATER MGMNT   \n",
       "1    AARON,  JEFFERY M            POLICE OFFICER            POLICE   \n",
       "2       AARON,  KARINA            POLICE OFFICER            POLICE   \n",
       "3  AARON,  KIMBERLEI R  CHIEF CONTRACT EXPEDITER  GENERAL SERVICES   \n",
       "4  ABAD JR,  VICENTE M         CIVIL ENGINEER IV       WATER MGMNT   \n",
       "\n",
       "  Employee Annual Salary  \n",
       "0              $90744.00  \n",
       "1              $84450.00  \n",
       "2              $84450.00  \n",
       "3              $89880.00  \n",
       "4             $106836.00  "
      ]
     },
     "execution_count": 12,
     "metadata": {},
     "output_type": "execute_result"
    }
   ],
   "source": [
    "chicago.dropna(axis=0, how=\"any\", inplace=True)\n",
    "chicago.head()"
   ]
  },
  {
   "cell_type": "code",
   "execution_count": 14,
   "metadata": {},
   "outputs": [
    {
     "name": "stdout",
     "output_type": "stream",
     "text": [
      "<class 'pandas.core.frame.DataFrame'>\n",
      "Int64Index: 32062 entries, 0 to 32061\n",
      "Data columns (total 4 columns):\n",
      " #   Column                  Non-Null Count  Dtype   \n",
      "---  ------                  --------------  -----   \n",
      " 0   Name                    32062 non-null  object  \n",
      " 1   Position Title          32062 non-null  category\n",
      " 2   Department              32062 non-null  category\n",
      " 3   Employee Annual Salary  32062 non-null  object  \n",
      "dtypes: category(2), object(2)\n",
      "memory usage: 895.4+ KB\n"
     ]
    }
   ],
   "source": [
    "# from 1002.1+ KB to 895.4+ KB\n",
    "chicago.info()"
   ]
  },
  {
   "cell_type": "markdown",
   "metadata": {},
   "source": [
    "# Common String Methods: .lower(), .upper(), .title(), .capitalize() and .len()"
   ]
  },
  {
   "cell_type": "markdown",
   "metadata": {},
   "source": [
    "# Review the string method"
   ]
  },
  {
   "cell_type": "code",
   "execution_count": 30,
   "metadata": {},
   "outputs": [
    {
     "data": {
      "text/plain": [
       "'hello world'"
      ]
     },
     "execution_count": 30,
     "metadata": {},
     "output_type": "execute_result"
    }
   ],
   "source": [
    "\"Hello World\".lower()"
   ]
  },
  {
   "cell_type": "code",
   "execution_count": 31,
   "metadata": {},
   "outputs": [
    {
     "data": {
      "text/plain": [
       "'HELLO WORLD'"
      ]
     },
     "execution_count": 31,
     "metadata": {},
     "output_type": "execute_result"
    }
   ],
   "source": [
    "\"hello world\".upper()"
   ]
  },
  {
   "cell_type": "code",
   "execution_count": 32,
   "metadata": {},
   "outputs": [
    {
     "data": {
      "text/plain": [
       "'Hello World'"
      ]
     },
     "execution_count": 32,
     "metadata": {},
     "output_type": "execute_result"
    }
   ],
   "source": [
    "\"hello world\".title()"
   ]
  },
  {
   "cell_type": "code",
   "execution_count": 33,
   "metadata": {},
   "outputs": [
    {
     "data": {
      "text/plain": [
       "'Hello world'"
      ]
     },
     "execution_count": 33,
     "metadata": {},
     "output_type": "execute_result"
    }
   ],
   "source": [
    "\"hello world\".capitalize()"
   ]
  },
  {
   "cell_type": "code",
   "execution_count": 36,
   "metadata": {},
   "outputs": [
    {
     "data": {
      "text/plain": [
       "11"
      ]
     },
     "execution_count": 36,
     "metadata": {},
     "output_type": "execute_result"
    }
   ],
   "source": [
    "len(\"hello world\")"
   ]
  },
  {
   "cell_type": "markdown",
   "metadata": {},
   "source": [
    "# Common String Methods: .lower(), .upper(), .title(), .capitalize() and .len()"
   ]
  },
  {
   "cell_type": "code",
   "execution_count": 38,
   "metadata": {},
   "outputs": [
    {
     "data": {
      "text/html": [
       "<div>\n",
       "<style scoped>\n",
       "    .dataframe tbody tr th:only-of-type {\n",
       "        vertical-align: middle;\n",
       "    }\n",
       "\n",
       "    .dataframe tbody tr th {\n",
       "        vertical-align: top;\n",
       "    }\n",
       "\n",
       "    .dataframe thead th {\n",
       "        text-align: right;\n",
       "    }\n",
       "</style>\n",
       "<table border=\"1\" class=\"dataframe\">\n",
       "  <thead>\n",
       "    <tr style=\"text-align: right;\">\n",
       "      <th></th>\n",
       "      <th>Name</th>\n",
       "      <th>Position Title</th>\n",
       "      <th>Department</th>\n",
       "      <th>Employee Annual Salary</th>\n",
       "    </tr>\n",
       "  </thead>\n",
       "  <tbody>\n",
       "    <tr>\n",
       "      <th>0</th>\n",
       "      <td>AARON,  ELVIA J</td>\n",
       "      <td>WATER RATE TAKER</td>\n",
       "      <td>WATER MGMNT</td>\n",
       "      <td>$90744.00</td>\n",
       "    </tr>\n",
       "    <tr>\n",
       "      <th>1</th>\n",
       "      <td>AARON,  JEFFERY M</td>\n",
       "      <td>POLICE OFFICER</td>\n",
       "      <td>POLICE</td>\n",
       "      <td>$84450.00</td>\n",
       "    </tr>\n",
       "    <tr>\n",
       "      <th>2</th>\n",
       "      <td>AARON,  KARINA</td>\n",
       "      <td>POLICE OFFICER</td>\n",
       "      <td>POLICE</td>\n",
       "      <td>$84450.00</td>\n",
       "    </tr>\n",
       "    <tr>\n",
       "      <th>3</th>\n",
       "      <td>AARON,  KIMBERLEI R</td>\n",
       "      <td>CHIEF CONTRACT EXPEDITER</td>\n",
       "      <td>GENERAL SERVICES</td>\n",
       "      <td>$89880.00</td>\n",
       "    </tr>\n",
       "    <tr>\n",
       "      <th>4</th>\n",
       "      <td>ABAD JR,  VICENTE M</td>\n",
       "      <td>CIVIL ENGINEER IV</td>\n",
       "      <td>WATER MGMNT</td>\n",
       "      <td>$106836.00</td>\n",
       "    </tr>\n",
       "  </tbody>\n",
       "</table>\n",
       "</div>"
      ],
      "text/plain": [
       "                  Name            Position Title        Department  \\\n",
       "0      AARON,  ELVIA J          WATER RATE TAKER       WATER MGMNT   \n",
       "1    AARON,  JEFFERY M            POLICE OFFICER            POLICE   \n",
       "2       AARON,  KARINA            POLICE OFFICER            POLICE   \n",
       "3  AARON,  KIMBERLEI R  CHIEF CONTRACT EXPEDITER  GENERAL SERVICES   \n",
       "4  ABAD JR,  VICENTE M         CIVIL ENGINEER IV       WATER MGMNT   \n",
       "\n",
       "  Employee Annual Salary  \n",
       "0              $90744.00  \n",
       "1              $84450.00  \n",
       "2              $84450.00  \n",
       "3              $89880.00  \n",
       "4             $106836.00  "
      ]
     },
     "execution_count": 38,
     "metadata": {},
     "output_type": "execute_result"
    }
   ],
   "source": [
    "chicago.head()"
   ]
  },
  {
   "cell_type": "code",
   "execution_count": 39,
   "metadata": {},
   "outputs": [
    {
     "data": {
      "text/plain": [
       "'Aaron,  jeffery m'"
      ]
     },
     "execution_count": 39,
     "metadata": {},
     "output_type": "execute_result"
    }
   ],
   "source": [
    "chicago.loc[1, \"Name\"].capitalize()"
   ]
  },
  {
   "cell_type": "code",
   "execution_count": 40,
   "metadata": {},
   "outputs": [
    {
     "ename": "AttributeError",
     "evalue": "'Series' object has no attribute 'title'",
     "output_type": "error",
     "traceback": [
      "\u001b[0;31m---------------------------------------------------------------------------\u001b[0m",
      "\u001b[0;31mAttributeError\u001b[0m                            Traceback (most recent call last)",
      "\u001b[0;32m<ipython-input-40-32d49e10cc34>\u001b[0m in \u001b[0;36m<module>\u001b[0;34m\u001b[0m\n\u001b[1;32m      1\u001b[0m \u001b[0;31m# it doesn't work\u001b[0m\u001b[0;34m\u001b[0m\u001b[0;34m\u001b[0m\u001b[0;34m\u001b[0m\u001b[0m\n\u001b[0;32m----> 2\u001b[0;31m \u001b[0mchicago\u001b[0m\u001b[0;34m[\u001b[0m\u001b[0;34m\"Name\"\u001b[0m\u001b[0;34m]\u001b[0m\u001b[0;34m.\u001b[0m\u001b[0mtitle\u001b[0m\u001b[0;34m(\u001b[0m\u001b[0;34m)\u001b[0m\u001b[0;34m\u001b[0m\u001b[0;34m\u001b[0m\u001b[0m\n\u001b[0m",
      "\u001b[0;32m/opt/anaconda3/envs/pandas_playground/lib/python3.8/site-packages/pandas/core/generic.py\u001b[0m in \u001b[0;36m__getattr__\u001b[0;34m(self, name)\u001b[0m\n\u001b[1;32m   5137\u001b[0m             \u001b[0;32mif\u001b[0m \u001b[0mself\u001b[0m\u001b[0;34m.\u001b[0m\u001b[0m_info_axis\u001b[0m\u001b[0;34m.\u001b[0m\u001b[0m_can_hold_identifiers_and_holds_name\u001b[0m\u001b[0;34m(\u001b[0m\u001b[0mname\u001b[0m\u001b[0;34m)\u001b[0m\u001b[0;34m:\u001b[0m\u001b[0;34m\u001b[0m\u001b[0;34m\u001b[0m\u001b[0m\n\u001b[1;32m   5138\u001b[0m                 \u001b[0;32mreturn\u001b[0m \u001b[0mself\u001b[0m\u001b[0;34m[\u001b[0m\u001b[0mname\u001b[0m\u001b[0;34m]\u001b[0m\u001b[0;34m\u001b[0m\u001b[0;34m\u001b[0m\u001b[0m\n\u001b[0;32m-> 5139\u001b[0;31m             \u001b[0;32mreturn\u001b[0m \u001b[0mobject\u001b[0m\u001b[0;34m.\u001b[0m\u001b[0m__getattribute__\u001b[0m\u001b[0;34m(\u001b[0m\u001b[0mself\u001b[0m\u001b[0;34m,\u001b[0m \u001b[0mname\u001b[0m\u001b[0;34m)\u001b[0m\u001b[0;34m\u001b[0m\u001b[0;34m\u001b[0m\u001b[0m\n\u001b[0m\u001b[1;32m   5140\u001b[0m \u001b[0;34m\u001b[0m\u001b[0m\n\u001b[1;32m   5141\u001b[0m     \u001b[0;32mdef\u001b[0m \u001b[0m__setattr__\u001b[0m\u001b[0;34m(\u001b[0m\u001b[0mself\u001b[0m\u001b[0;34m,\u001b[0m \u001b[0mname\u001b[0m\u001b[0;34m:\u001b[0m \u001b[0mstr\u001b[0m\u001b[0;34m,\u001b[0m \u001b[0mvalue\u001b[0m\u001b[0;34m)\u001b[0m \u001b[0;34m->\u001b[0m \u001b[0;32mNone\u001b[0m\u001b[0;34m:\u001b[0m\u001b[0;34m\u001b[0m\u001b[0;34m\u001b[0m\u001b[0m\n",
      "\u001b[0;31mAttributeError\u001b[0m: 'Series' object has no attribute 'title'"
     ]
    }
   ],
   "source": [
    "# it doesn't work\n",
    "chicago[\"Name\"].title()"
   ]
  },
  {
   "cell_type": "code",
   "execution_count": 44,
   "metadata": {},
   "outputs": [
    {
     "data": {
      "text/plain": [
       "0            AARON,  ELVIA J\n",
       "1          AARON,  JEFFERY M\n",
       "2             AARON,  KARINA\n",
       "3        AARON,  KIMBERLEI R\n",
       "4        ABAD JR,  VICENTE M\n",
       "                ...         \n",
       "32057    ZYGADLO,  MICHAEL J\n",
       "32058     ZYGOWICZ,  PETER J\n",
       "32059      ZYMANTAS,  MARK E\n",
       "32060    ZYRKOWSKI,  CARLO E\n",
       "32061    ZYSKOWSKI,  DARIUSZ\n",
       "Name: Name, Length: 32062, dtype: object"
      ]
     },
     "execution_count": 44,
     "metadata": {},
     "output_type": "execute_result"
    }
   ],
   "source": [
    "# you have to put str for the prefix\n",
    "chicago[\"Name\"].str.lower().str.upper()"
   ]
  },
  {
   "cell_type": "code",
   "execution_count": 46,
   "metadata": {},
   "outputs": [
    {
     "data": {
      "text/plain": [
       "0             Water Mgmnt\n",
       "1                  Police\n",
       "2                  Police\n",
       "3        General Services\n",
       "4             Water Mgmnt\n",
       "               ...       \n",
       "32057    General Services\n",
       "32058              Police\n",
       "32059              Police\n",
       "32060              Police\n",
       "32061                Doit\n",
       "Name: Department, Length: 32062, dtype: object"
      ]
     },
     "execution_count": 46,
     "metadata": {},
     "output_type": "execute_result"
    }
   ],
   "source": [
    "chicago[\"Department\"].str.title()"
   ]
  },
  {
   "cell_type": "code",
   "execution_count": 47,
   "metadata": {},
   "outputs": [
    {
     "data": {
      "text/plain": [
       "0                      Water rate taker\n",
       "1                        Police officer\n",
       "2                        Police officer\n",
       "3              Chief contract expediter\n",
       "4                     Civil engineer iv\n",
       "                      ...              \n",
       "32057    Frm of machinists - automotive\n",
       "32058                    Police officer\n",
       "32059                    Police officer\n",
       "32060                    Police officer\n",
       "32061           Chief data base analyst\n",
       "Name: Position Title, Length: 32062, dtype: object"
      ]
     },
     "execution_count": 47,
     "metadata": {},
     "output_type": "execute_result"
    }
   ],
   "source": [
    "chicago[\"Position Title\"].str.capitalize()"
   ]
  },
  {
   "cell_type": "code",
   "execution_count": 51,
   "metadata": {},
   "outputs": [
    {
     "data": {
      "text/html": [
       "<div>\n",
       "<style scoped>\n",
       "    .dataframe tbody tr th:only-of-type {\n",
       "        vertical-align: middle;\n",
       "    }\n",
       "\n",
       "    .dataframe tbody tr th {\n",
       "        vertical-align: top;\n",
       "    }\n",
       "\n",
       "    .dataframe thead th {\n",
       "        text-align: right;\n",
       "    }\n",
       "</style>\n",
       "<table border=\"1\" class=\"dataframe\">\n",
       "  <thead>\n",
       "    <tr style=\"text-align: right;\">\n",
       "      <th></th>\n",
       "      <th>Name</th>\n",
       "      <th>Position Title</th>\n",
       "      <th>Department</th>\n",
       "      <th>Employee Annual Salary</th>\n",
       "    </tr>\n",
       "  </thead>\n",
       "  <tbody>\n",
       "    <tr>\n",
       "      <th>0</th>\n",
       "      <td>Aaron,  Elvia J</td>\n",
       "      <td>Water Rate Taker</td>\n",
       "      <td>Water Mgmnt</td>\n",
       "      <td>$90744.00</td>\n",
       "    </tr>\n",
       "    <tr>\n",
       "      <th>1</th>\n",
       "      <td>Aaron,  Jeffery M</td>\n",
       "      <td>Police Officer</td>\n",
       "      <td>Police</td>\n",
       "      <td>$84450.00</td>\n",
       "    </tr>\n",
       "    <tr>\n",
       "      <th>2</th>\n",
       "      <td>Aaron,  Karina</td>\n",
       "      <td>Police Officer</td>\n",
       "      <td>Police</td>\n",
       "      <td>$84450.00</td>\n",
       "    </tr>\n",
       "    <tr>\n",
       "      <th>3</th>\n",
       "      <td>Aaron,  Kimberlei R</td>\n",
       "      <td>Chief Contract Expediter</td>\n",
       "      <td>General Services</td>\n",
       "      <td>$89880.00</td>\n",
       "    </tr>\n",
       "    <tr>\n",
       "      <th>4</th>\n",
       "      <td>Abad Jr,  Vicente M</td>\n",
       "      <td>Civil Engineer Iv</td>\n",
       "      <td>Water Mgmnt</td>\n",
       "      <td>$106836.00</td>\n",
       "    </tr>\n",
       "  </tbody>\n",
       "</table>\n",
       "</div>"
      ],
      "text/plain": [
       "                  Name            Position Title        Department  \\\n",
       "0      Aaron,  Elvia J          Water Rate Taker       Water Mgmnt   \n",
       "1    Aaron,  Jeffery M            Police Officer            Police   \n",
       "2       Aaron,  Karina            Police Officer            Police   \n",
       "3  Aaron,  Kimberlei R  Chief Contract Expediter  General Services   \n",
       "4  Abad Jr,  Vicente M         Civil Engineer Iv       Water Mgmnt   \n",
       "\n",
       "  Employee Annual Salary  \n",
       "0              $90744.00  \n",
       "1              $84450.00  \n",
       "2              $84450.00  \n",
       "3              $89880.00  \n",
       "4             $106836.00  "
      ]
     },
     "execution_count": 51,
     "metadata": {},
     "output_type": "execute_result"
    }
   ],
   "source": [
    "# title the columns\n",
    "chicago[\"Name\"] = chicago[\"Name\"].str.title()\n",
    "chicago[\"Position Title\"] = chicago[\"Position Title\"].str.title()\n",
    "chicago[\"Department\"] = chicago[\"Department\"].str.title()\n",
    "chicago.head()"
   ]
  },
  {
   "cell_type": "code",
   "execution_count": 2,
   "metadata": {},
   "outputs": [],
   "source": [
    "# Alternative way\n",
    "# Mix together"
   ]
  },
  {
   "cell_type": "code",
   "execution_count": null,
   "metadata": {},
   "outputs": [],
   "source": [
    "# chicago.loc[:, [\"Department\"]] and chicago.loc[:, \"Department\"] ARE DIFFERENT THINGS!\n",
    "chicago.loc[:, \"Name\"] = chicago.loc[:, \"Name\"].str.title().str.replace(\",\", \" \")\n",
    "chicago[\"Department\"] = chicago[\"Department\"].str.title()\n",
    "chicago.loc[:, \"Position Title\"] = chicago[\"Position Title\"].str.title()\n",
    "chicago[\"Employee Annual Salary\"] = chicago.loc[:, \"Employee Annual Salary\"].str.replace(\"$\", \"\").astype(\"float\")"
   ]
  },
  {
   "cell_type": "code",
   "execution_count": 52,
   "metadata": {},
   "outputs": [
    {
     "data": {
      "text/plain": [
       "32062"
      ]
     },
     "execution_count": 52,
     "metadata": {},
     "output_type": "execute_result"
    }
   ],
   "source": [
    "len(chicago[\"Department\"])"
   ]
  },
  {
   "cell_type": "code",
   "execution_count": 59,
   "metadata": {},
   "outputs": [
    {
     "data": {
      "text/plain": [
       "0        11\n",
       "1         6\n",
       "2         6\n",
       "3        16\n",
       "4        11\n",
       "         ..\n",
       "32057    16\n",
       "32058     6\n",
       "32059     6\n",
       "32060     6\n",
       "32061     4\n",
       "Name: Department, Length: 32062, dtype: int64"
      ]
     },
     "execution_count": 59,
     "metadata": {},
     "output_type": "execute_result"
    }
   ],
   "source": [
    "# series have .str.len()\n",
    "chicago[\"Department\"].str.len()"
   ]
  },
  {
   "cell_type": "code",
   "execution_count": 60,
   "metadata": {},
   "outputs": [
    {
     "ename": "AttributeError",
     "evalue": "'DataFrame' object has no attribute 'str'",
     "output_type": "error",
     "traceback": [
      "\u001b[0;31m---------------------------------------------------------------------------\u001b[0m",
      "\u001b[0;31mAttributeError\u001b[0m                            Traceback (most recent call last)",
      "\u001b[0;32m<ipython-input-60-38835e8c57ce>\u001b[0m in \u001b[0;36m<module>\u001b[0;34m\u001b[0m\n\u001b[1;32m      1\u001b[0m \u001b[0;31m# dataframe doesn't have .str.len()\u001b[0m\u001b[0;34m\u001b[0m\u001b[0;34m\u001b[0m\u001b[0;34m\u001b[0m\u001b[0m\n\u001b[0;32m----> 2\u001b[0;31m \u001b[0mchicago\u001b[0m\u001b[0;34m.\u001b[0m\u001b[0mstr\u001b[0m\u001b[0;34m.\u001b[0m\u001b[0mlen\u001b[0m\u001b[0;34m(\u001b[0m\u001b[0;34m)\u001b[0m\u001b[0;34m\u001b[0m\u001b[0;34m\u001b[0m\u001b[0m\n\u001b[0m",
      "\u001b[0;32m/opt/anaconda3/envs/pandas_playground/lib/python3.8/site-packages/pandas/core/generic.py\u001b[0m in \u001b[0;36m__getattr__\u001b[0;34m(self, name)\u001b[0m\n\u001b[1;32m   5137\u001b[0m             \u001b[0;32mif\u001b[0m \u001b[0mself\u001b[0m\u001b[0;34m.\u001b[0m\u001b[0m_info_axis\u001b[0m\u001b[0;34m.\u001b[0m\u001b[0m_can_hold_identifiers_and_holds_name\u001b[0m\u001b[0;34m(\u001b[0m\u001b[0mname\u001b[0m\u001b[0;34m)\u001b[0m\u001b[0;34m:\u001b[0m\u001b[0;34m\u001b[0m\u001b[0;34m\u001b[0m\u001b[0m\n\u001b[1;32m   5138\u001b[0m                 \u001b[0;32mreturn\u001b[0m \u001b[0mself\u001b[0m\u001b[0;34m[\u001b[0m\u001b[0mname\u001b[0m\u001b[0;34m]\u001b[0m\u001b[0;34m\u001b[0m\u001b[0;34m\u001b[0m\u001b[0m\n\u001b[0;32m-> 5139\u001b[0;31m             \u001b[0;32mreturn\u001b[0m \u001b[0mobject\u001b[0m\u001b[0;34m.\u001b[0m\u001b[0m__getattribute__\u001b[0m\u001b[0;34m(\u001b[0m\u001b[0mself\u001b[0m\u001b[0;34m,\u001b[0m \u001b[0mname\u001b[0m\u001b[0;34m)\u001b[0m\u001b[0;34m\u001b[0m\u001b[0;34m\u001b[0m\u001b[0m\n\u001b[0m\u001b[1;32m   5140\u001b[0m \u001b[0;34m\u001b[0m\u001b[0m\n\u001b[1;32m   5141\u001b[0m     \u001b[0;32mdef\u001b[0m \u001b[0m__setattr__\u001b[0m\u001b[0;34m(\u001b[0m\u001b[0mself\u001b[0m\u001b[0;34m,\u001b[0m \u001b[0mname\u001b[0m\u001b[0;34m:\u001b[0m \u001b[0mstr\u001b[0m\u001b[0;34m,\u001b[0m \u001b[0mvalue\u001b[0m\u001b[0;34m)\u001b[0m \u001b[0;34m->\u001b[0m \u001b[0;32mNone\u001b[0m\u001b[0;34m:\u001b[0m\u001b[0;34m\u001b[0m\u001b[0;34m\u001b[0m\u001b[0m\n",
      "\u001b[0;31mAttributeError\u001b[0m: 'DataFrame' object has no attribute 'str'"
     ]
    }
   ],
   "source": [
    "# dataframe doesn't have .str.len() only series have\n",
    "chicago.str.len()"
   ]
  },
  {
   "cell_type": "code",
   "execution_count": null,
   "metadata": {},
   "outputs": [],
   "source": [
    "# just a hint\n",
    "# slicing in the brackets and sequence no brackets"
   ]
  },
  {
   "cell_type": "code",
   "execution_count": 69,
   "metadata": {
    "scrolled": true
   },
   "outputs": [
    {
     "data": {
      "text/plain": [
       "1      Aaron,  jeffery m\n",
       "4    Abad jr,  vicente m\n",
       "Name: Name, dtype: object"
      ]
     },
     "execution_count": 69,
     "metadata": {},
     "output_type": "execute_result"
    }
   ],
   "source": [
    "chicago.loc[[1, 4], \"Name\"].str.capitalize()"
   ]
  },
  {
   "cell_type": "code",
   "execution_count": 78,
   "metadata": {
    "scrolled": true
   },
   "outputs": [
    {
     "data": {
      "text/plain": [
       "1      Aaron,  jeffery m\n",
       "2         Aaron,  karina\n",
       "3    Aaron,  kimberlei r\n",
       "4    Abad jr,  vicente m\n",
       "Name: Name, dtype: object"
      ]
     },
     "execution_count": 78,
     "metadata": {},
     "output_type": "execute_result"
    }
   ],
   "source": [
    "chicago.loc[1:4, \"Name\"].str.capitalize()"
   ]
  },
  {
   "cell_type": "code",
   "execution_count": 79,
   "metadata": {},
   "outputs": [
    {
     "data": {
      "text/plain": [
       "1      Aaron,  jeffery m\n",
       "4    Abad jr,  vicente m\n",
       "Name: Name, dtype: object"
      ]
     },
     "execution_count": 79,
     "metadata": {},
     "output_type": "execute_result"
    }
   ],
   "source": [
    "chicago.iloc[[1, 4], 0].str.capitalize()"
   ]
  },
  {
   "cell_type": "code",
   "execution_count": 80,
   "metadata": {},
   "outputs": [
    {
     "data": {
      "text/plain": [
       "1      Aaron,  jeffery m\n",
       "2         Aaron,  karina\n",
       "3    Aaron,  kimberlei r\n",
       "Name: Name, dtype: object"
      ]
     },
     "execution_count": 80,
     "metadata": {},
     "output_type": "execute_result"
    }
   ],
   "source": [
    "chicago.iloc[1:4, 0].str.capitalize()"
   ]
  },
  {
   "cell_type": "markdown",
   "metadata": {},
   "source": [
    "# The .str.replace() Method"
   ]
  },
  {
   "cell_type": "code",
   "execution_count": 118,
   "metadata": {},
   "outputs": [
    {
     "data": {
      "text/plain": [
       "'He!!o wor!d'"
      ]
     },
     "execution_count": 118,
     "metadata": {},
     "output_type": "execute_result"
    }
   ],
   "source": [
    "# string.replace() takes no arguments\n",
    "# to_replace= and value= is only available in the .replace() from dataframe and series\n",
    "\"Hello world\".replace(\"l\", \"!\")"
   ]
  },
  {
   "cell_type": "code",
   "execution_count": 119,
   "metadata": {},
   "outputs": [
    {
     "data": {
      "text/html": [
       "<div>\n",
       "<style scoped>\n",
       "    .dataframe tbody tr th:only-of-type {\n",
       "        vertical-align: middle;\n",
       "    }\n",
       "\n",
       "    .dataframe tbody tr th {\n",
       "        vertical-align: top;\n",
       "    }\n",
       "\n",
       "    .dataframe thead th {\n",
       "        text-align: right;\n",
       "    }\n",
       "</style>\n",
       "<table border=\"1\" class=\"dataframe\">\n",
       "  <thead>\n",
       "    <tr style=\"text-align: right;\">\n",
       "      <th></th>\n",
       "      <th>Name</th>\n",
       "      <th>Position Title</th>\n",
       "      <th>Department</th>\n",
       "      <th>Employee Annual Salary</th>\n",
       "    </tr>\n",
       "  </thead>\n",
       "  <tbody>\n",
       "    <tr>\n",
       "      <th>0</th>\n",
       "      <td>AARON,  ELVIA J</td>\n",
       "      <td>WATER RATE TAKER</td>\n",
       "      <td>WATER MGMNT</td>\n",
       "      <td>$90744.00</td>\n",
       "    </tr>\n",
       "    <tr>\n",
       "      <th>1</th>\n",
       "      <td>AARON,  JEFFERY M</td>\n",
       "      <td>POLICE OFFICER</td>\n",
       "      <td>POLICE</td>\n",
       "      <td>$84450.00</td>\n",
       "    </tr>\n",
       "    <tr>\n",
       "      <th>2</th>\n",
       "      <td>AARON,  KARINA</td>\n",
       "      <td>POLICE OFFICER</td>\n",
       "      <td>POLICE</td>\n",
       "      <td>$84450.00</td>\n",
       "    </tr>\n",
       "    <tr>\n",
       "      <th>3</th>\n",
       "      <td>AARON,  KIMBERLEI R</td>\n",
       "      <td>CHIEF CONTRACT EXPEDITER</td>\n",
       "      <td>GENERAL SERVICES</td>\n",
       "      <td>$89880.00</td>\n",
       "    </tr>\n",
       "    <tr>\n",
       "      <th>4</th>\n",
       "      <td>ABAD JR,  VICENTE M</td>\n",
       "      <td>CIVIL ENGINEER IV</td>\n",
       "      <td>WATER MGMNT</td>\n",
       "      <td>$106836.00</td>\n",
       "    </tr>\n",
       "  </tbody>\n",
       "</table>\n",
       "</div>"
      ],
      "text/plain": [
       "                  Name            Position Title        Department  \\\n",
       "0      AARON,  ELVIA J          WATER RATE TAKER       WATER MGMNT   \n",
       "1    AARON,  JEFFERY M            POLICE OFFICER            POLICE   \n",
       "2       AARON,  KARINA            POLICE OFFICER            POLICE   \n",
       "3  AARON,  KIMBERLEI R  CHIEF CONTRACT EXPEDITER  GENERAL SERVICES   \n",
       "4  ABAD JR,  VICENTE M         CIVIL ENGINEER IV       WATER MGMNT   \n",
       "\n",
       "  Employee Annual Salary  \n",
       "0              $90744.00  \n",
       "1              $84450.00  \n",
       "2              $84450.00  \n",
       "3              $89880.00  \n",
       "4             $106836.00  "
      ]
     },
     "execution_count": 119,
     "metadata": {},
     "output_type": "execute_result"
    }
   ],
   "source": [
    "chicago = pd.read_csv(filepath_or_buffer=chicago_location)\n",
    "chicago.head()"
   ]
  },
  {
   "cell_type": "code",
   "execution_count": 120,
   "metadata": {},
   "outputs": [
    {
     "data": {
      "text/plain": [
       "0                  AAA Texas\n",
       "1          AARON,  JEFFERY M\n",
       "2             AARON,  KARINA\n",
       "3        AARON,  KIMBERLEI R\n",
       "4        ABAD JR,  VICENTE M\n",
       "                ...         \n",
       "32058     ZYGOWICZ,  PETER J\n",
       "32059      ZYMANTAS,  MARK E\n",
       "32060    ZYRKOWSKI,  CARLO E\n",
       "32061    ZYSKOWSKI,  DARIUSZ\n",
       "32062                    NaN\n",
       "Name: Name, Length: 32063, dtype: object"
      ]
     },
     "execution_count": 120,
     "metadata": {},
     "output_type": "execute_result"
    }
   ],
   "source": [
    "chicago.loc[:, \"Name\"].replace(to_replace=\"AARON,  ELVIA J\", value=\"AAA Texas\")"
   ]
  },
  {
   "cell_type": "code",
   "execution_count": 121,
   "metadata": {},
   "outputs": [
    {
     "data": {
      "text/plain": [
       "0                  AAA Texas\n",
       "1          AARON,  JEFFERY M\n",
       "2             AARON,  KARINA\n",
       "3        AARON,  KIMBERLEI R\n",
       "4        ABAD JR,  VICENTE M\n",
       "                ...         \n",
       "32058     ZYGOWICZ,  PETER J\n",
       "32059      ZYMANTAS,  MARK E\n",
       "32060    ZYRKOWSKI,  CARLO E\n",
       "32061    ZYSKOWSKI,  DARIUSZ\n",
       "32062                    NaN\n",
       "Name: Name, Length: 32063, dtype: object"
      ]
     },
     "execution_count": 121,
     "metadata": {},
     "output_type": "execute_result"
    }
   ],
   "source": [
    "chicago[\"Name\"].replace(to_replace=\"AARON,  ELVIA J\", value=\"AAA Texas\")"
   ]
  },
  {
   "cell_type": "code",
   "execution_count": 122,
   "metadata": {},
   "outputs": [
    {
     "data": {
      "text/plain": [
       "0        WATER MANAGEMENT\n",
       "1                  POLICE\n",
       "2                  POLICE\n",
       "3        GENERAL SERVICES\n",
       "4        WATER MANAGEMENT\n",
       "               ...       \n",
       "32058              POLICE\n",
       "32059              POLICE\n",
       "32060              POLICE\n",
       "32061                DoIT\n",
       "32062                 NaN\n",
       "Name: Department, Length: 32063, dtype: object"
      ]
     },
     "execution_count": 122,
     "metadata": {},
     "output_type": "execute_result"
    }
   ],
   "source": [
    "# string.replace() takes no arguments\n",
    "# to_replace= and value= is only available in the .replace() from dataframe and series\n",
    "chicago[\"Department\"].str.replace(\"MGMNT\", \"MANAGEMENT\")"
   ]
  },
  {
   "cell_type": "code",
   "execution_count": 123,
   "metadata": {},
   "outputs": [
    {
     "name": "stdout",
     "output_type": "stream",
     "text": [
      "<class 'pandas.core.frame.DataFrame'>\n",
      "RangeIndex: 32063 entries, 0 to 32062\n",
      "Data columns (total 4 columns):\n",
      " #   Column                  Non-Null Count  Dtype \n",
      "---  ------                  --------------  ----- \n",
      " 0   Name                    32062 non-null  object\n",
      " 1   Position Title          32062 non-null  object\n",
      " 2   Department              32062 non-null  object\n",
      " 3   Employee Annual Salary  32062 non-null  object\n",
      "dtypes: object(4)\n",
      "memory usage: 1002.1+ KB\n"
     ]
    }
   ],
   "source": [
    "# salary is the object, string, datatype\n",
    "chicago.info()"
   ]
  },
  {
   "cell_type": "code",
   "execution_count": 128,
   "metadata": {
    "scrolled": false
   },
   "outputs": [
    {
     "data": {
      "text/plain": [
       "0         $90744.00\n",
       "1         $84450.00\n",
       "2         $84450.00\n",
       "3         $89880.00\n",
       "4        $106836.00\n",
       "            ...    \n",
       "32058     $87384.00\n",
       "32059     $84450.00\n",
       "32060     $87384.00\n",
       "32061    $113664.00\n",
       "32062           NaN\n",
       "Name: Employee Annual Salary, Length: 32063, dtype: object"
      ]
     },
     "execution_count": 128,
     "metadata": {},
     "output_type": "execute_result"
    }
   ],
   "source": [
    "# dataframe's replace() can only replace the whole word not the letter\n",
    "chicago[\"Employee Annual Salary\"].replace(to_replace=\"$\", value=\"\")"
   ]
  },
  {
   "cell_type": "code",
   "execution_count": 129,
   "metadata": {},
   "outputs": [
    {
     "data": {
      "text/plain": [
       "0         90744.00\n",
       "1         84450.00\n",
       "2         84450.00\n",
       "3         89880.00\n",
       "4        106836.00\n",
       "           ...    \n",
       "32058     87384.00\n",
       "32059     84450.00\n",
       "32060     87384.00\n",
       "32061    113664.00\n",
       "32062          NaN\n",
       "Name: Employee Annual Salary, Length: 32063, dtype: object"
      ]
     },
     "execution_count": 129,
     "metadata": {},
     "output_type": "execute_result"
    }
   ],
   "source": [
    "# str.replace() can replace the letter and the whole word\n",
    "chicago[\"Employee Annual Salary\"].str.replace(\"$\", \"\")"
   ]
  },
  {
   "cell_type": "code",
   "execution_count": 130,
   "metadata": {},
   "outputs": [],
   "source": [
    "chicago[\"Employee Annual Salary\"] = chicago[\"Employee Annual Salary\"].str.replace(\"$\", \"\").astype(dtype=\"float\")"
   ]
  },
  {
   "cell_type": "code",
   "execution_count": 131,
   "metadata": {},
   "outputs": [
    {
     "data": {
      "text/plain": [
       "count     32062.000000\n",
       "mean      80204.178634\n",
       "std       25098.329868\n",
       "min           0.960000\n",
       "25%       72862.400000\n",
       "50%       84450.000000\n",
       "75%       93240.000000\n",
       "max      300000.000000\n",
       "Name: Employee Annual Salary, dtype: float64"
      ]
     },
     "execution_count": 131,
     "metadata": {},
     "output_type": "execute_result"
    }
   ],
   "source": [
    "chicago[\"Employee Annual Salary\"].describe()"
   ]
  },
  {
   "cell_type": "code",
   "execution_count": 132,
   "metadata": {},
   "outputs": [
    {
     "data": {
      "text/plain": [
       "8184     300000.0\n",
       "7954     216210.0\n",
       "25532    202728.0\n",
       "8924     197736.0\n",
       "8042     197724.0\n",
       "Name: Employee Annual Salary, dtype: float64"
      ]
     },
     "execution_count": 132,
     "metadata": {},
     "output_type": "execute_result"
    }
   ],
   "source": [
    "chicago[\"Employee Annual Salary\"].nlargest(n=5)"
   ]
  },
  {
   "cell_type": "code",
   "execution_count": 136,
   "metadata": {},
   "outputs": [
    {
     "data": {
      "text/html": [
       "<div>\n",
       "<style scoped>\n",
       "    .dataframe tbody tr th:only-of-type {\n",
       "        vertical-align: middle;\n",
       "    }\n",
       "\n",
       "    .dataframe tbody tr th {\n",
       "        vertical-align: top;\n",
       "    }\n",
       "\n",
       "    .dataframe thead th {\n",
       "        text-align: right;\n",
       "    }\n",
       "</style>\n",
       "<table border=\"1\" class=\"dataframe\">\n",
       "  <thead>\n",
       "    <tr style=\"text-align: right;\">\n",
       "      <th></th>\n",
       "      <th>Name</th>\n",
       "      <th>Position Title</th>\n",
       "      <th>Department</th>\n",
       "      <th>Employee Annual Salary</th>\n",
       "    </tr>\n",
       "  </thead>\n",
       "  <tbody>\n",
       "    <tr>\n",
       "      <th>8184</th>\n",
       "      <td>EVANS,  GINGER S</td>\n",
       "      <td>COMMISSIONER OF AVIATION</td>\n",
       "      <td>AVIATION</td>\n",
       "      <td>300000.0</td>\n",
       "    </tr>\n",
       "    <tr>\n",
       "      <th>7954</th>\n",
       "      <td>EMANUEL,  RAHM</td>\n",
       "      <td>MAYOR</td>\n",
       "      <td>MAYOR'S OFFICE</td>\n",
       "      <td>216210.0</td>\n",
       "    </tr>\n",
       "    <tr>\n",
       "      <th>25532</th>\n",
       "      <td>SANTIAGO,  JOSE A</td>\n",
       "      <td>FIRE COMMISSIONER</td>\n",
       "      <td>FIRE</td>\n",
       "      <td>202728.0</td>\n",
       "    </tr>\n",
       "    <tr>\n",
       "      <th>8924</th>\n",
       "      <td>FORD II,  RICHARD C</td>\n",
       "      <td>FIRST DEPUTY FIRE COMMISSIONER</td>\n",
       "      <td>FIRE</td>\n",
       "      <td>197736.0</td>\n",
       "    </tr>\n",
       "    <tr>\n",
       "      <th>8042</th>\n",
       "      <td>ESCALANTE,  JOHN J</td>\n",
       "      <td>FIRST DEPUTY SUPERINTENDENT</td>\n",
       "      <td>POLICE</td>\n",
       "      <td>197724.0</td>\n",
       "    </tr>\n",
       "  </tbody>\n",
       "</table>\n",
       "</div>"
      ],
      "text/plain": [
       "                      Name                  Position Title      Department  \\\n",
       "8184      EVANS,  GINGER S        COMMISSIONER OF AVIATION        AVIATION   \n",
       "7954        EMANUEL,  RAHM                           MAYOR  MAYOR'S OFFICE   \n",
       "25532    SANTIAGO,  JOSE A               FIRE COMMISSIONER            FIRE   \n",
       "8924   FORD II,  RICHARD C  FIRST DEPUTY FIRE COMMISSIONER            FIRE   \n",
       "8042    ESCALANTE,  JOHN J     FIRST DEPUTY SUPERINTENDENT          POLICE   \n",
       "\n",
       "       Employee Annual Salary  \n",
       "8184                 300000.0  \n",
       "7954                 216210.0  \n",
       "25532                202728.0  \n",
       "8924                 197736.0  \n",
       "8042                 197724.0  "
      ]
     },
     "execution_count": 136,
     "metadata": {},
     "output_type": "execute_result"
    }
   ],
   "source": [
    "chicago.nlargest(n=5, columns=[\"Employee Annual Salary\"])"
   ]
  },
  {
   "cell_type": "code",
   "execution_count": 133,
   "metadata": {},
   "outputs": [
    {
     "data": {
      "text/plain": [
       "15102       0.96\n",
       "12       2756.00\n",
       "27       2756.00\n",
       "47       2756.00\n",
       "295      2756.00\n",
       "Name: Employee Annual Salary, dtype: float64"
      ]
     },
     "execution_count": 133,
     "metadata": {},
     "output_type": "execute_result"
    }
   ],
   "source": [
    "chicago[\"Employee Annual Salary\"].nsmallest(n=5)"
   ]
  },
  {
   "cell_type": "code",
   "execution_count": 137,
   "metadata": {},
   "outputs": [
    {
     "data": {
      "text/html": [
       "<div>\n",
       "<style scoped>\n",
       "    .dataframe tbody tr th:only-of-type {\n",
       "        vertical-align: middle;\n",
       "    }\n",
       "\n",
       "    .dataframe tbody tr th {\n",
       "        vertical-align: top;\n",
       "    }\n",
       "\n",
       "    .dataframe thead th {\n",
       "        text-align: right;\n",
       "    }\n",
       "</style>\n",
       "<table border=\"1\" class=\"dataframe\">\n",
       "  <thead>\n",
       "    <tr style=\"text-align: right;\">\n",
       "      <th></th>\n",
       "      <th>Name</th>\n",
       "      <th>Position Title</th>\n",
       "      <th>Department</th>\n",
       "      <th>Employee Annual Salary</th>\n",
       "    </tr>\n",
       "  </thead>\n",
       "  <tbody>\n",
       "    <tr>\n",
       "      <th>15102</th>\n",
       "      <td>KOCH,  STEVEN</td>\n",
       "      <td>ADMINISTRATIVE SECRETARY</td>\n",
       "      <td>MAYOR'S OFFICE</td>\n",
       "      <td>0.96</td>\n",
       "    </tr>\n",
       "    <tr>\n",
       "      <th>12</th>\n",
       "      <td>ABBOTT,  BETTY L</td>\n",
       "      <td>FOSTER GRANDPARENT</td>\n",
       "      <td>FAMILY &amp; SUPPORT</td>\n",
       "      <td>2756.00</td>\n",
       "    </tr>\n",
       "    <tr>\n",
       "      <th>27</th>\n",
       "      <td>ABDULWAHAB,  ABUUBAIDA</td>\n",
       "      <td>FOSTER GRANDPARENT</td>\n",
       "      <td>FAMILY &amp; SUPPORT</td>\n",
       "      <td>2756.00</td>\n",
       "    </tr>\n",
       "    <tr>\n",
       "      <th>47</th>\n",
       "      <td>ABREU,  VICTOR</td>\n",
       "      <td>SENIOR COMPANION</td>\n",
       "      <td>FAMILY &amp; SUPPORT</td>\n",
       "      <td>2756.00</td>\n",
       "    </tr>\n",
       "    <tr>\n",
       "      <th>295</th>\n",
       "      <td>AL AMIN,  RASHEEDAH K</td>\n",
       "      <td>SENIOR COMPANION</td>\n",
       "      <td>FAMILY &amp; SUPPORT</td>\n",
       "      <td>2756.00</td>\n",
       "    </tr>\n",
       "  </tbody>\n",
       "</table>\n",
       "</div>"
      ],
      "text/plain": [
       "                         Name            Position Title        Department  \\\n",
       "15102           KOCH,  STEVEN  ADMINISTRATIVE SECRETARY    MAYOR'S OFFICE   \n",
       "12           ABBOTT,  BETTY L        FOSTER GRANDPARENT  FAMILY & SUPPORT   \n",
       "27     ABDULWAHAB,  ABUUBAIDA        FOSTER GRANDPARENT  FAMILY & SUPPORT   \n",
       "47             ABREU,  VICTOR          SENIOR COMPANION  FAMILY & SUPPORT   \n",
       "295     AL AMIN,  RASHEEDAH K          SENIOR COMPANION  FAMILY & SUPPORT   \n",
       "\n",
       "       Employee Annual Salary  \n",
       "15102                    0.96  \n",
       "12                    2756.00  \n",
       "27                    2756.00  \n",
       "47                    2756.00  \n",
       "295                   2756.00  "
      ]
     },
     "execution_count": 137,
     "metadata": {},
     "output_type": "execute_result"
    }
   ],
   "source": [
    "chicago.nsmallest(n=5, columns=[\"Employee Annual Salary\"])"
   ]
  },
  {
   "cell_type": "code",
   "execution_count": 138,
   "metadata": {},
   "outputs": [
    {
     "data": {
      "text/plain": [
       "0.96"
      ]
     },
     "execution_count": 138,
     "metadata": {},
     "output_type": "execute_result"
    }
   ],
   "source": [
    "chicago.loc[15102, \"Employee Annual Salary\"]"
   ]
  },
  {
   "cell_type": "code",
   "execution_count": 139,
   "metadata": {},
   "outputs": [
    {
     "name": "stdout",
     "output_type": "stream",
     "text": [
      "<class 'pandas.core.frame.DataFrame'>\n",
      "RangeIndex: 32063 entries, 0 to 32062\n",
      "Data columns (total 4 columns):\n",
      " #   Column                  Non-Null Count  Dtype  \n",
      "---  ------                  --------------  -----  \n",
      " 0   Name                    32062 non-null  object \n",
      " 1   Position Title          32062 non-null  object \n",
      " 2   Department              32062 non-null  object \n",
      " 3   Employee Annual Salary  32062 non-null  float64\n",
      "dtypes: float64(1), object(3)\n",
      "memory usage: 1002.1+ KB\n"
     ]
    }
   ],
   "source": [
    "chicago.info()"
   ]
  },
  {
   "cell_type": "markdown",
   "metadata": {},
   "source": [
    "# Filtering with String Methods:\n",
    "# .str.contains(), .str.startswith(), .str.endswith()"
   ]
  },
  {
   "cell_type": "code",
   "execution_count": 142,
   "metadata": {},
   "outputs": [
    {
     "data": {
      "text/html": [
       "<div>\n",
       "<style scoped>\n",
       "    .dataframe tbody tr th:only-of-type {\n",
       "        vertical-align: middle;\n",
       "    }\n",
       "\n",
       "    .dataframe tbody tr th {\n",
       "        vertical-align: top;\n",
       "    }\n",
       "\n",
       "    .dataframe thead th {\n",
       "        text-align: right;\n",
       "    }\n",
       "</style>\n",
       "<table border=\"1\" class=\"dataframe\">\n",
       "  <thead>\n",
       "    <tr style=\"text-align: right;\">\n",
       "      <th></th>\n",
       "      <th>Name</th>\n",
       "      <th>Position Title</th>\n",
       "      <th>Department</th>\n",
       "      <th>Employee Annual Salary</th>\n",
       "    </tr>\n",
       "  </thead>\n",
       "  <tbody>\n",
       "    <tr>\n",
       "      <th>0</th>\n",
       "      <td>AARON,  ELVIA J</td>\n",
       "      <td>WATER RATE TAKER</td>\n",
       "      <td>WATER MGMNT</td>\n",
       "      <td>$90744.00</td>\n",
       "    </tr>\n",
       "    <tr>\n",
       "      <th>1</th>\n",
       "      <td>AARON,  JEFFERY M</td>\n",
       "      <td>POLICE OFFICER</td>\n",
       "      <td>POLICE</td>\n",
       "      <td>$84450.00</td>\n",
       "    </tr>\n",
       "    <tr>\n",
       "      <th>2</th>\n",
       "      <td>AARON,  KARINA</td>\n",
       "      <td>POLICE OFFICER</td>\n",
       "      <td>POLICE</td>\n",
       "      <td>$84450.00</td>\n",
       "    </tr>\n",
       "    <tr>\n",
       "      <th>3</th>\n",
       "      <td>AARON,  KIMBERLEI R</td>\n",
       "      <td>CHIEF CONTRACT EXPEDITER</td>\n",
       "      <td>GENERAL SERVICES</td>\n",
       "      <td>$89880.00</td>\n",
       "    </tr>\n",
       "    <tr>\n",
       "      <th>4</th>\n",
       "      <td>ABAD JR,  VICENTE M</td>\n",
       "      <td>CIVIL ENGINEER IV</td>\n",
       "      <td>WATER MGMNT</td>\n",
       "      <td>$106836.00</td>\n",
       "    </tr>\n",
       "  </tbody>\n",
       "</table>\n",
       "</div>"
      ],
      "text/plain": [
       "                  Name            Position Title        Department  \\\n",
       "0      AARON,  ELVIA J          WATER RATE TAKER       WATER MGMNT   \n",
       "1    AARON,  JEFFERY M            POLICE OFFICER            POLICE   \n",
       "2       AARON,  KARINA            POLICE OFFICER            POLICE   \n",
       "3  AARON,  KIMBERLEI R  CHIEF CONTRACT EXPEDITER  GENERAL SERVICES   \n",
       "4  ABAD JR,  VICENTE M         CIVIL ENGINEER IV       WATER MGMNT   \n",
       "\n",
       "  Employee Annual Salary  \n",
       "0              $90744.00  \n",
       "1              $84450.00  \n",
       "2              $84450.00  \n",
       "3              $89880.00  \n",
       "4             $106836.00  "
      ]
     },
     "execution_count": 142,
     "metadata": {},
     "output_type": "execute_result"
    }
   ],
   "source": [
    "chicago = pd.read_csv(filepath_or_buffer=chicago_location).dropna(axis=0, how=\"all\")\n",
    "chicago.head()"
   ]
  },
  {
   "cell_type": "code",
   "execution_count": 162,
   "metadata": {},
   "outputs": [
    {
     "ename": "AttributeError",
     "evalue": "'str' object has no attribute 'contains'",
     "output_type": "error",
     "traceback": [
      "\u001b[0;31m---------------------------------------------------------------------------\u001b[0m",
      "\u001b[0;31mAttributeError\u001b[0m                            Traceback (most recent call last)",
      "\u001b[0;32m<ipython-input-162-32d72168c842>\u001b[0m in \u001b[0;36m<module>\u001b[0;34m\u001b[0m\n\u001b[0;32m----> 1\u001b[0;31m \u001b[0;34m\"dd dd\"\u001b[0m\u001b[0;34m.\u001b[0m\u001b[0mcontains\u001b[0m\u001b[0;34m(\u001b[0m\u001b[0;34m\" \"\u001b[0m\u001b[0;34m)\u001b[0m\u001b[0;34m\u001b[0m\u001b[0;34m\u001b[0m\u001b[0m\n\u001b[0m",
      "\u001b[0;31mAttributeError\u001b[0m: 'str' object has no attribute 'contains'"
     ]
    }
   ],
   "source": [
    "\"dd dd\".contains(\" \")"
   ]
  },
  {
   "cell_type": "code",
   "execution_count": 163,
   "metadata": {},
   "outputs": [
    {
     "data": {
      "text/plain": [
       "True"
      ]
     },
     "execution_count": 163,
     "metadata": {},
     "output_type": "execute_result"
    }
   ],
   "source": [
    "\" \" in \"dd dd\""
   ]
  },
  {
   "cell_type": "code",
   "execution_count": 152,
   "metadata": {},
   "outputs": [
    {
     "data": {
      "text/plain": [
       "0         True\n",
       "1        False\n",
       "2        False\n",
       "3        False\n",
       "4        False\n",
       "         ...  \n",
       "32057    False\n",
       "32058    False\n",
       "32059    False\n",
       "32060    False\n",
       "32061    False\n",
       "Name: Position Title, Length: 32062, dtype: bool"
      ]
     },
     "execution_count": 152,
     "metadata": {},
     "output_type": "execute_result"
    }
   ],
   "source": [
    "# normalize the columns\n",
    "chicago[\"Position Title\"].str.lower().str.contains(\"water\")"
   ]
  },
  {
   "cell_type": "code",
   "execution_count": 153,
   "metadata": {},
   "outputs": [
    {
     "data": {
      "text/html": [
       "<div>\n",
       "<style scoped>\n",
       "    .dataframe tbody tr th:only-of-type {\n",
       "        vertical-align: middle;\n",
       "    }\n",
       "\n",
       "    .dataframe tbody tr th {\n",
       "        vertical-align: top;\n",
       "    }\n",
       "\n",
       "    .dataframe thead th {\n",
       "        text-align: right;\n",
       "    }\n",
       "</style>\n",
       "<table border=\"1\" class=\"dataframe\">\n",
       "  <thead>\n",
       "    <tr style=\"text-align: right;\">\n",
       "      <th></th>\n",
       "      <th>Name</th>\n",
       "      <th>Position Title</th>\n",
       "      <th>Department</th>\n",
       "      <th>Employee Annual Salary</th>\n",
       "    </tr>\n",
       "  </thead>\n",
       "  <tbody>\n",
       "    <tr>\n",
       "      <th>0</th>\n",
       "      <td>AARON,  ELVIA J</td>\n",
       "      <td>WATER RATE TAKER</td>\n",
       "      <td>WATER MGMNT</td>\n",
       "      <td>$90744.00</td>\n",
       "    </tr>\n",
       "    <tr>\n",
       "      <th>554</th>\n",
       "      <td>ALUISE,  VINCENT G</td>\n",
       "      <td>FOREMAN OF WATER PIPE CONSTRUCTION</td>\n",
       "      <td>WATER MGMNT</td>\n",
       "      <td>$102440.00</td>\n",
       "    </tr>\n",
       "    <tr>\n",
       "      <th>671</th>\n",
       "      <td>ANDER,  PERRY A</td>\n",
       "      <td>WATER CHEMIST II</td>\n",
       "      <td>WATER MGMNT</td>\n",
       "      <td>$82044.00</td>\n",
       "    </tr>\n",
       "    <tr>\n",
       "      <th>685</th>\n",
       "      <td>ANDERSON,  ANDREW J</td>\n",
       "      <td>DISTRICT SUPERINTENDENT OF WATER DISTRIBUTION</td>\n",
       "      <td>WATER MGMNT</td>\n",
       "      <td>$109272.00</td>\n",
       "    </tr>\n",
       "    <tr>\n",
       "      <th>702</th>\n",
       "      <td>ANDERSON,  DONALD</td>\n",
       "      <td>FOREMAN OF WATER PIPE CONSTRUCTION</td>\n",
       "      <td>WATER MGMNT</td>\n",
       "      <td>$102440.00</td>\n",
       "    </tr>\n",
       "    <tr>\n",
       "      <th>...</th>\n",
       "      <td>...</td>\n",
       "      <td>...</td>\n",
       "      <td>...</td>\n",
       "      <td>...</td>\n",
       "    </tr>\n",
       "    <tr>\n",
       "      <th>29669</th>\n",
       "      <td>VERMA,  ANUPAM</td>\n",
       "      <td>MANAGING ENGINEER - WATER MANAGEMENT</td>\n",
       "      <td>WATER MGMNT</td>\n",
       "      <td>$111192.00</td>\n",
       "    </tr>\n",
       "    <tr>\n",
       "      <th>30239</th>\n",
       "      <td>WASHINGTON,  JOSEPH</td>\n",
       "      <td>WATER CHEMIST III</td>\n",
       "      <td>WATER MGMNT</td>\n",
       "      <td>$89676.00</td>\n",
       "    </tr>\n",
       "    <tr>\n",
       "      <th>30544</th>\n",
       "      <td>WEST,  THOMAS R</td>\n",
       "      <td>GEN SUPT OF WATER MANAGEMENT</td>\n",
       "      <td>WATER MGMNT</td>\n",
       "      <td>$115704.00</td>\n",
       "    </tr>\n",
       "    <tr>\n",
       "      <th>30991</th>\n",
       "      <td>WILLIAMS,  MATTHEW</td>\n",
       "      <td>FOREMAN OF WATER PIPE CONSTRUCTION</td>\n",
       "      <td>WATER MGMNT</td>\n",
       "      <td>$102440.00</td>\n",
       "    </tr>\n",
       "    <tr>\n",
       "      <th>31405</th>\n",
       "      <td>WOODRIDGE,  ROBERT L</td>\n",
       "      <td>FOREMAN OF WATER PIPE CONSTRUCTION</td>\n",
       "      <td>WATER MGMNT</td>\n",
       "      <td>$102440.00</td>\n",
       "    </tr>\n",
       "  </tbody>\n",
       "</table>\n",
       "<p>111 rows × 4 columns</p>\n",
       "</div>"
      ],
      "text/plain": [
       "                       Name                                 Position Title  \\\n",
       "0           AARON,  ELVIA J                               WATER RATE TAKER   \n",
       "554      ALUISE,  VINCENT G             FOREMAN OF WATER PIPE CONSTRUCTION   \n",
       "671         ANDER,  PERRY A                               WATER CHEMIST II   \n",
       "685     ANDERSON,  ANDREW J  DISTRICT SUPERINTENDENT OF WATER DISTRIBUTION   \n",
       "702       ANDERSON,  DONALD             FOREMAN OF WATER PIPE CONSTRUCTION   \n",
       "...                     ...                                            ...   \n",
       "29669        VERMA,  ANUPAM           MANAGING ENGINEER - WATER MANAGEMENT   \n",
       "30239   WASHINGTON,  JOSEPH                              WATER CHEMIST III   \n",
       "30544       WEST,  THOMAS R                   GEN SUPT OF WATER MANAGEMENT   \n",
       "30991    WILLIAMS,  MATTHEW             FOREMAN OF WATER PIPE CONSTRUCTION   \n",
       "31405  WOODRIDGE,  ROBERT L             FOREMAN OF WATER PIPE CONSTRUCTION   \n",
       "\n",
       "        Department Employee Annual Salary  \n",
       "0      WATER MGMNT              $90744.00  \n",
       "554    WATER MGMNT             $102440.00  \n",
       "671    WATER MGMNT              $82044.00  \n",
       "685    WATER MGMNT             $109272.00  \n",
       "702    WATER MGMNT             $102440.00  \n",
       "...            ...                    ...  \n",
       "29669  WATER MGMNT             $111192.00  \n",
       "30239  WATER MGMNT              $89676.00  \n",
       "30544  WATER MGMNT             $115704.00  \n",
       "30991  WATER MGMNT             $102440.00  \n",
       "31405  WATER MGMNT             $102440.00  \n",
       "\n",
       "[111 rows x 4 columns]"
      ]
     },
     "execution_count": 153,
     "metadata": {},
     "output_type": "execute_result"
    }
   ],
   "source": [
    "mask1 = chicago[\"Position Title\"].str.lower().str.contains(\"water\")\n",
    "chicago[mask1]"
   ]
  },
  {
   "cell_type": "code",
   "execution_count": 154,
   "metadata": {},
   "outputs": [
    {
     "data": {
      "text/plain": [
       "0         True\n",
       "1        False\n",
       "2        False\n",
       "3        False\n",
       "4        False\n",
       "         ...  \n",
       "32057    False\n",
       "32058    False\n",
       "32059    False\n",
       "32060    False\n",
       "32061    False\n",
       "Name: Position Title, Length: 32062, dtype: bool"
      ]
     },
     "execution_count": 154,
     "metadata": {},
     "output_type": "execute_result"
    }
   ],
   "source": [
    "# str.startswith()\n",
    "chicago[\"Position Title\"].str.lower().str.startswith(\"water\")"
   ]
  },
  {
   "cell_type": "code",
   "execution_count": 155,
   "metadata": {},
   "outputs": [
    {
     "data": {
      "text/html": [
       "<div>\n",
       "<style scoped>\n",
       "    .dataframe tbody tr th:only-of-type {\n",
       "        vertical-align: middle;\n",
       "    }\n",
       "\n",
       "    .dataframe tbody tr th {\n",
       "        vertical-align: top;\n",
       "    }\n",
       "\n",
       "    .dataframe thead th {\n",
       "        text-align: right;\n",
       "    }\n",
       "</style>\n",
       "<table border=\"1\" class=\"dataframe\">\n",
       "  <thead>\n",
       "    <tr style=\"text-align: right;\">\n",
       "      <th></th>\n",
       "      <th>Name</th>\n",
       "      <th>Position Title</th>\n",
       "      <th>Department</th>\n",
       "      <th>Employee Annual Salary</th>\n",
       "    </tr>\n",
       "  </thead>\n",
       "  <tbody>\n",
       "    <tr>\n",
       "      <th>0</th>\n",
       "      <td>AARON,  ELVIA J</td>\n",
       "      <td>WATER RATE TAKER</td>\n",
       "      <td>WATER MGMNT</td>\n",
       "      <td>$90744.00</td>\n",
       "    </tr>\n",
       "    <tr>\n",
       "      <th>671</th>\n",
       "      <td>ANDER,  PERRY A</td>\n",
       "      <td>WATER CHEMIST II</td>\n",
       "      <td>WATER MGMNT</td>\n",
       "      <td>$82044.00</td>\n",
       "    </tr>\n",
       "    <tr>\n",
       "      <th>1054</th>\n",
       "      <td>ASHLEY,  KARMA T</td>\n",
       "      <td>WATER CHEMIST II</td>\n",
       "      <td>WATER MGMNT</td>\n",
       "      <td>$82044.00</td>\n",
       "    </tr>\n",
       "    <tr>\n",
       "      <th>1079</th>\n",
       "      <td>ATKINS,  JOANNA M</td>\n",
       "      <td>WATER CHEMIST II</td>\n",
       "      <td>WATER MGMNT</td>\n",
       "      <td>$82044.00</td>\n",
       "    </tr>\n",
       "    <tr>\n",
       "      <th>1181</th>\n",
       "      <td>AZEEM,  MOHAMMED A</td>\n",
       "      <td>WATER CHEMIST II</td>\n",
       "      <td>WATER MGMNT</td>\n",
       "      <td>$53172.00</td>\n",
       "    </tr>\n",
       "    <tr>\n",
       "      <th>...</th>\n",
       "      <td>...</td>\n",
       "      <td>...</td>\n",
       "      <td>...</td>\n",
       "      <td>...</td>\n",
       "    </tr>\n",
       "    <tr>\n",
       "      <th>28574</th>\n",
       "      <td>THREATT,  DENISE R</td>\n",
       "      <td>WATER QUALITY INSPECTOR</td>\n",
       "      <td>WATER MGMNT</td>\n",
       "      <td>$62004.00</td>\n",
       "    </tr>\n",
       "    <tr>\n",
       "      <th>28602</th>\n",
       "      <td>TIGNOR,  DARRYL B</td>\n",
       "      <td>WATER RATE TAKER</td>\n",
       "      <td>WATER MGMNT</td>\n",
       "      <td>$78948.00</td>\n",
       "    </tr>\n",
       "    <tr>\n",
       "      <th>28955</th>\n",
       "      <td>TRAVIS COOK,  LESLIE R</td>\n",
       "      <td>WATER RATE TAKER</td>\n",
       "      <td>WATER MGMNT</td>\n",
       "      <td>$78948.00</td>\n",
       "    </tr>\n",
       "    <tr>\n",
       "      <th>29584</th>\n",
       "      <td>VELAZQUEZ,  JOHN</td>\n",
       "      <td>WATER RATE TAKER</td>\n",
       "      <td>WATER MGMNT</td>\n",
       "      <td>$78948.00</td>\n",
       "    </tr>\n",
       "    <tr>\n",
       "      <th>30239</th>\n",
       "      <td>WASHINGTON,  JOSEPH</td>\n",
       "      <td>WATER CHEMIST III</td>\n",
       "      <td>WATER MGMNT</td>\n",
       "      <td>$89676.00</td>\n",
       "    </tr>\n",
       "  </tbody>\n",
       "</table>\n",
       "<p>75 rows × 4 columns</p>\n",
       "</div>"
      ],
      "text/plain": [
       "                         Name           Position Title   Department  \\\n",
       "0             AARON,  ELVIA J         WATER RATE TAKER  WATER MGMNT   \n",
       "671           ANDER,  PERRY A         WATER CHEMIST II  WATER MGMNT   \n",
       "1054         ASHLEY,  KARMA T         WATER CHEMIST II  WATER MGMNT   \n",
       "1079        ATKINS,  JOANNA M         WATER CHEMIST II  WATER MGMNT   \n",
       "1181       AZEEM,  MOHAMMED A         WATER CHEMIST II  WATER MGMNT   \n",
       "...                       ...                      ...          ...   \n",
       "28574      THREATT,  DENISE R  WATER QUALITY INSPECTOR  WATER MGMNT   \n",
       "28602       TIGNOR,  DARRYL B         WATER RATE TAKER  WATER MGMNT   \n",
       "28955  TRAVIS COOK,  LESLIE R         WATER RATE TAKER  WATER MGMNT   \n",
       "29584        VELAZQUEZ,  JOHN         WATER RATE TAKER  WATER MGMNT   \n",
       "30239     WASHINGTON,  JOSEPH        WATER CHEMIST III  WATER MGMNT   \n",
       "\n",
       "      Employee Annual Salary  \n",
       "0                  $90744.00  \n",
       "671                $82044.00  \n",
       "1054               $82044.00  \n",
       "1079               $82044.00  \n",
       "1181               $53172.00  \n",
       "...                      ...  \n",
       "28574              $62004.00  \n",
       "28602              $78948.00  \n",
       "28955              $78948.00  \n",
       "29584              $78948.00  \n",
       "30239              $89676.00  \n",
       "\n",
       "[75 rows x 4 columns]"
      ]
     },
     "execution_count": 155,
     "metadata": {},
     "output_type": "execute_result"
    }
   ],
   "source": [
    "mask2 = chicago[\"Position Title\"].str.lower().str.startswith(\"water\")\n",
    "chicago[mask2]"
   ]
  },
  {
   "cell_type": "code",
   "execution_count": 157,
   "metadata": {},
   "outputs": [
    {
     "data": {
      "text/plain": [
       "0        False\n",
       "1        False\n",
       "2        False\n",
       "3        False\n",
       "4        False\n",
       "         ...  \n",
       "32057    False\n",
       "32058    False\n",
       "32059    False\n",
       "32060    False\n",
       "32061    False\n",
       "Name: Department, Length: 32062, dtype: bool"
      ]
     },
     "execution_count": 157,
     "metadata": {},
     "output_type": "execute_result"
    }
   ],
   "source": [
    "# str.endswith()\n",
    "chicago[\"Department\"].str.lower().str.endswith(\"water\")"
   ]
  },
  {
   "cell_type": "code",
   "execution_count": 158,
   "metadata": {},
   "outputs": [
    {
     "data": {
      "text/html": [
       "<div>\n",
       "<style scoped>\n",
       "    .dataframe tbody tr th:only-of-type {\n",
       "        vertical-align: middle;\n",
       "    }\n",
       "\n",
       "    .dataframe tbody tr th {\n",
       "        vertical-align: top;\n",
       "    }\n",
       "\n",
       "    .dataframe thead th {\n",
       "        text-align: right;\n",
       "    }\n",
       "</style>\n",
       "<table border=\"1\" class=\"dataframe\">\n",
       "  <thead>\n",
       "    <tr style=\"text-align: right;\">\n",
       "      <th></th>\n",
       "      <th>Name</th>\n",
       "      <th>Position Title</th>\n",
       "      <th>Department</th>\n",
       "      <th>Employee Annual Salary</th>\n",
       "    </tr>\n",
       "  </thead>\n",
       "  <tbody>\n",
       "  </tbody>\n",
       "</table>\n",
       "</div>"
      ],
      "text/plain": [
       "Empty DataFrame\n",
       "Columns: [Name, Position Title, Department, Employee Annual Salary]\n",
       "Index: []"
      ]
     },
     "execution_count": 158,
     "metadata": {},
     "output_type": "execute_result"
    }
   ],
   "source": [
    "mask3 = chicago[\"Department\"].str.lower().str.endswith(\"water\")\n",
    "chicago[mask3]"
   ]
  },
  {
   "cell_type": "markdown",
   "metadata": {},
   "source": [
    "# More String Methods:\n",
    "# str.strip(), str.lstrip(), str.rstrip() to take away the white space"
   ]
  },
  {
   "cell_type": "code",
   "execution_count": 167,
   "metadata": {},
   "outputs": [
    {
     "data": {
      "text/plain": [
       "'Hello World  '"
      ]
     },
     "execution_count": 167,
     "metadata": {},
     "output_type": "execute_result"
    }
   ],
   "source": [
    "\"  Hello World  \".lstrip()"
   ]
  },
  {
   "cell_type": "code",
   "execution_count": 168,
   "metadata": {},
   "outputs": [
    {
     "data": {
      "text/plain": [
       "'  Hello World'"
      ]
     },
     "execution_count": 168,
     "metadata": {},
     "output_type": "execute_result"
    }
   ],
   "source": [
    "\"  Hello World  \".rstrip()"
   ]
  },
  {
   "cell_type": "code",
   "execution_count": 169,
   "metadata": {},
   "outputs": [
    {
     "data": {
      "text/plain": [
       "'Hello World'"
      ]
     },
     "execution_count": 169,
     "metadata": {},
     "output_type": "execute_result"
    }
   ],
   "source": [
    "\"  Hello World  \".strip()"
   ]
  },
  {
   "cell_type": "code",
   "execution_count": 173,
   "metadata": {},
   "outputs": [
    {
     "data": {
      "text/plain": [
       "0            AARON,  ELVIA J\n",
       "1          AARON,  JEFFERY M\n",
       "2             AARON,  KARINA\n",
       "3        AARON,  KIMBERLEI R\n",
       "4        ABAD JR,  VICENTE M\n",
       "                ...         \n",
       "32057    ZYGADLO,  MICHAEL J\n",
       "32058     ZYGOWICZ,  PETER J\n",
       "32059      ZYMANTAS,  MARK E\n",
       "32060    ZYRKOWSKI,  CARLO E\n",
       "32061    ZYSKOWSKI,  DARIUSZ\n",
       "Name: Name, Length: 32062, dtype: object"
      ]
     },
     "execution_count": 173,
     "metadata": {},
     "output_type": "execute_result"
    }
   ],
   "source": [
    "chicago[\"Name\"].str.lstrip().str.rstrip()"
   ]
  },
  {
   "cell_type": "code",
   "execution_count": 174,
   "metadata": {},
   "outputs": [
    {
     "data": {
      "text/plain": [
       "0            AARON,  ELVIA J\n",
       "1          AARON,  JEFFERY M\n",
       "2             AARON,  KARINA\n",
       "3        AARON,  KIMBERLEI R\n",
       "4        ABAD JR,  VICENTE M\n",
       "                ...         \n",
       "32057    ZYGADLO,  MICHAEL J\n",
       "32058     ZYGOWICZ,  PETER J\n",
       "32059      ZYMANTAS,  MARK E\n",
       "32060    ZYRKOWSKI,  CARLO E\n",
       "32061    ZYSKOWSKI,  DARIUSZ\n",
       "Name: Name, Length: 32062, dtype: object"
      ]
     },
     "execution_count": 174,
     "metadata": {},
     "output_type": "execute_result"
    }
   ],
   "source": [
    "chicago[\"Name\"].str.strip()"
   ]
  },
  {
   "cell_type": "code",
   "execution_count": 179,
   "metadata": {},
   "outputs": [
    {
     "data": {
      "text/plain": [
       "0            AARON,  ELVIA J\n",
       "1          AARON,  JEFFERY M\n",
       "2             AARON,  KARINA\n",
       "3        AARON,  KIMBERLEI R\n",
       "4        ABAD JR,  VICENTE M\n",
       "                ...         \n",
       "32057    ZYGADLO,  MICHAEL J\n",
       "32058     ZYGOWICZ,  PETER J\n",
       "32059      ZYMANTAS,  MARK E\n",
       "32060    ZYRKOWSKI,  CARLO E\n",
       "32061    ZYSKOWSKI,  DARIUSZ\n",
       "Name: Name, Length: 32062, dtype: object"
      ]
     },
     "execution_count": 179,
     "metadata": {},
     "output_type": "execute_result"
    }
   ],
   "source": [
    "chicago.loc[:, \"Name\"].str.strip()"
   ]
  },
  {
   "cell_type": "markdown",
   "metadata": {},
   "source": [
    "# String Methods on Index and Columns"
   ]
  },
  {
   "cell_type": "code",
   "execution_count": 182,
   "metadata": {},
   "outputs": [
    {
     "data": {
      "text/html": [
       "<div>\n",
       "<style scoped>\n",
       "    .dataframe tbody tr th:only-of-type {\n",
       "        vertical-align: middle;\n",
       "    }\n",
       "\n",
       "    .dataframe tbody tr th {\n",
       "        vertical-align: top;\n",
       "    }\n",
       "\n",
       "    .dataframe thead th {\n",
       "        text-align: right;\n",
       "    }\n",
       "</style>\n",
       "<table border=\"1\" class=\"dataframe\">\n",
       "  <thead>\n",
       "    <tr style=\"text-align: right;\">\n",
       "      <th></th>\n",
       "      <th>Position Title</th>\n",
       "      <th>Department</th>\n",
       "      <th>Employee Annual Salary</th>\n",
       "    </tr>\n",
       "    <tr>\n",
       "      <th>Name</th>\n",
       "      <th></th>\n",
       "      <th></th>\n",
       "      <th></th>\n",
       "    </tr>\n",
       "  </thead>\n",
       "  <tbody>\n",
       "    <tr>\n",
       "      <th>AARON,  ELVIA J</th>\n",
       "      <td>WATER RATE TAKER</td>\n",
       "      <td>WATER MGMNT</td>\n",
       "      <td>$90744.00</td>\n",
       "    </tr>\n",
       "    <tr>\n",
       "      <th>AARON,  JEFFERY M</th>\n",
       "      <td>POLICE OFFICER</td>\n",
       "      <td>POLICE</td>\n",
       "      <td>$84450.00</td>\n",
       "    </tr>\n",
       "    <tr>\n",
       "      <th>AARON,  KARINA</th>\n",
       "      <td>POLICE OFFICER</td>\n",
       "      <td>POLICE</td>\n",
       "      <td>$84450.00</td>\n",
       "    </tr>\n",
       "    <tr>\n",
       "      <th>AARON,  KIMBERLEI R</th>\n",
       "      <td>CHIEF CONTRACT EXPEDITER</td>\n",
       "      <td>GENERAL SERVICES</td>\n",
       "      <td>$89880.00</td>\n",
       "    </tr>\n",
       "    <tr>\n",
       "      <th>ABAD JR,  VICENTE M</th>\n",
       "      <td>CIVIL ENGINEER IV</td>\n",
       "      <td>WATER MGMNT</td>\n",
       "      <td>$106836.00</td>\n",
       "    </tr>\n",
       "  </tbody>\n",
       "</table>\n",
       "</div>"
      ],
      "text/plain": [
       "                               Position Title        Department  \\\n",
       "Name                                                              \n",
       "AARON,  ELVIA J              WATER RATE TAKER       WATER MGMNT   \n",
       "AARON,  JEFFERY M              POLICE OFFICER            POLICE   \n",
       "AARON,  KARINA                 POLICE OFFICER            POLICE   \n",
       "AARON,  KIMBERLEI R  CHIEF CONTRACT EXPEDITER  GENERAL SERVICES   \n",
       "ABAD JR,  VICENTE M         CIVIL ENGINEER IV       WATER MGMNT   \n",
       "\n",
       "                    Employee Annual Salary  \n",
       "Name                                        \n",
       "AARON,  ELVIA J                  $90744.00  \n",
       "AARON,  JEFFERY M                $84450.00  \n",
       "AARON,  KARINA                   $84450.00  \n",
       "AARON,  KIMBERLEI R              $89880.00  \n",
       "ABAD JR,  VICENTE M             $106836.00  "
      ]
     },
     "execution_count": 182,
     "metadata": {},
     "output_type": "execute_result"
    }
   ],
   "source": [
    "chicago = pd.read_csv(filepath_or_buffer=chicago_location, index_col=\"Name\").dropna(axis=0, how=\"all\")\n",
    "chicago.head()"
   ]
  },
  {
   "cell_type": "code",
   "execution_count": 189,
   "metadata": {},
   "outputs": [],
   "source": [
    "chicago.index = chicago.index.str.strip().str.title()"
   ]
  },
  {
   "cell_type": "code",
   "execution_count": 190,
   "metadata": {},
   "outputs": [
    {
     "data": {
      "text/plain": [
       "Index(['Aaron,  Elvia J', 'Aaron,  Jeffery M', 'Aaron,  Karina',\n",
       "       'Aaron,  Kimberlei R', 'Abad Jr,  Vicente M', 'Abarca,  Anabel',\n",
       "       'Abarca,  Emmanuel', 'Abascal,  Reece E', 'Abbasi,  Christopher',\n",
       "       'Abbatacola,  Robert J',\n",
       "       ...\n",
       "       'Zwit,  Jeffrey J', 'Zwolfer,  Matthew W', 'Zych,  Mateusz',\n",
       "       'Zydek,  Bryan', 'Zygadlo,  John P', 'Zygadlo,  Michael J',\n",
       "       'Zygowicz,  Peter J', 'Zymantas,  Mark E', 'Zyrkowski,  Carlo E',\n",
       "       'Zyskowski,  Dariusz'],\n",
       "      dtype='object', name='Name', length=32062)"
      ]
     },
     "execution_count": 190,
     "metadata": {},
     "output_type": "execute_result"
    }
   ],
   "source": [
    "chicago.index"
   ]
  },
  {
   "cell_type": "code",
   "execution_count": 196,
   "metadata": {},
   "outputs": [
    {
     "data": {
      "text/html": [
       "<div>\n",
       "<style scoped>\n",
       "    .dataframe tbody tr th:only-of-type {\n",
       "        vertical-align: middle;\n",
       "    }\n",
       "\n",
       "    .dataframe tbody tr th {\n",
       "        vertical-align: top;\n",
       "    }\n",
       "\n",
       "    .dataframe thead th {\n",
       "        text-align: right;\n",
       "    }\n",
       "</style>\n",
       "<table border=\"1\" class=\"dataframe\">\n",
       "  <thead>\n",
       "    <tr style=\"text-align: right;\">\n",
       "      <th></th>\n",
       "      <th>Position Title</th>\n",
       "      <th>Department</th>\n",
       "      <th>Employee Annual Salary</th>\n",
       "    </tr>\n",
       "    <tr>\n",
       "      <th>Name</th>\n",
       "      <th></th>\n",
       "      <th></th>\n",
       "      <th></th>\n",
       "    </tr>\n",
       "  </thead>\n",
       "  <tbody>\n",
       "    <tr>\n",
       "      <th>Aaron,  Elvia J</th>\n",
       "      <td>WATER RATE TAKER</td>\n",
       "      <td>WATER MGMNT</td>\n",
       "      <td>$90744.00</td>\n",
       "    </tr>\n",
       "    <tr>\n",
       "      <th>Aaron,  Jeffery M</th>\n",
       "      <td>POLICE OFFICER</td>\n",
       "      <td>POLICE</td>\n",
       "      <td>$84450.00</td>\n",
       "    </tr>\n",
       "    <tr>\n",
       "      <th>Aaron,  Karina</th>\n",
       "      <td>POLICE OFFICER</td>\n",
       "      <td>POLICE</td>\n",
       "      <td>$84450.00</td>\n",
       "    </tr>\n",
       "    <tr>\n",
       "      <th>Aaron,  Kimberlei R</th>\n",
       "      <td>CHIEF CONTRACT EXPEDITER</td>\n",
       "      <td>GENERAL SERVICES</td>\n",
       "      <td>$89880.00</td>\n",
       "    </tr>\n",
       "    <tr>\n",
       "      <th>Abad Jr,  Vicente M</th>\n",
       "      <td>CIVIL ENGINEER IV</td>\n",
       "      <td>WATER MGMNT</td>\n",
       "      <td>$106836.00</td>\n",
       "    </tr>\n",
       "  </tbody>\n",
       "</table>\n",
       "</div>"
      ],
      "text/plain": [
       "                               Position Title        Department  \\\n",
       "Name                                                              \n",
       "Aaron,  Elvia J              WATER RATE TAKER       WATER MGMNT   \n",
       "Aaron,  Jeffery M              POLICE OFFICER            POLICE   \n",
       "Aaron,  Karina                 POLICE OFFICER            POLICE   \n",
       "Aaron,  Kimberlei R  CHIEF CONTRACT EXPEDITER  GENERAL SERVICES   \n",
       "Abad Jr,  Vicente M         CIVIL ENGINEER IV       WATER MGMNT   \n",
       "\n",
       "                    Employee Annual Salary  \n",
       "Name                                        \n",
       "Aaron,  Elvia J                  $90744.00  \n",
       "Aaron,  Jeffery M                $84450.00  \n",
       "Aaron,  Karina                   $84450.00  \n",
       "Aaron,  Kimberlei R              $89880.00  \n",
       "Abad Jr,  Vicente M             $106836.00  "
      ]
     },
     "execution_count": 196,
     "metadata": {},
     "output_type": "execute_result"
    }
   ],
   "source": [
    "chicago.head()"
   ]
  },
  {
   "cell_type": "code",
   "execution_count": 195,
   "metadata": {},
   "outputs": [
    {
     "data": {
      "text/plain": [
       "Index(['Position title', 'Department', 'Employee annual salary'], dtype='object')"
      ]
     },
     "execution_count": 195,
     "metadata": {},
     "output_type": "execute_result"
    }
   ],
   "source": [
    "chicago.columns.str.capitalize()"
   ]
  },
  {
   "cell_type": "code",
   "execution_count": 2,
   "metadata": {},
   "outputs": [],
   "source": [
    "# the below accesses are different"
   ]
  },
  {
   "cell_type": "code",
   "execution_count": 9,
   "metadata": {},
   "outputs": [
    {
     "data": {
      "text/html": [
       "<div>\n",
       "<style scoped>\n",
       "    .dataframe tbody tr th:only-of-type {\n",
       "        vertical-align: middle;\n",
       "    }\n",
       "\n",
       "    .dataframe tbody tr th {\n",
       "        vertical-align: top;\n",
       "    }\n",
       "\n",
       "    .dataframe thead th {\n",
       "        text-align: right;\n",
       "    }\n",
       "</style>\n",
       "<table border=\"1\" class=\"dataframe\">\n",
       "  <thead>\n",
       "    <tr style=\"text-align: right;\">\n",
       "      <th></th>\n",
       "      <th>Department</th>\n",
       "    </tr>\n",
       "  </thead>\n",
       "  <tbody>\n",
       "    <tr>\n",
       "      <th>0</th>\n",
       "      <td>WATER MGMNT</td>\n",
       "    </tr>\n",
       "    <tr>\n",
       "      <th>1</th>\n",
       "      <td>POLICE</td>\n",
       "    </tr>\n",
       "    <tr>\n",
       "      <th>2</th>\n",
       "      <td>POLICE</td>\n",
       "    </tr>\n",
       "    <tr>\n",
       "      <th>3</th>\n",
       "      <td>GENERAL SERVICES</td>\n",
       "    </tr>\n",
       "    <tr>\n",
       "      <th>4</th>\n",
       "      <td>WATER MGMNT</td>\n",
       "    </tr>\n",
       "    <tr>\n",
       "      <th>...</th>\n",
       "      <td>...</td>\n",
       "    </tr>\n",
       "    <tr>\n",
       "      <th>32058</th>\n",
       "      <td>POLICE</td>\n",
       "    </tr>\n",
       "    <tr>\n",
       "      <th>32059</th>\n",
       "      <td>POLICE</td>\n",
       "    </tr>\n",
       "    <tr>\n",
       "      <th>32060</th>\n",
       "      <td>POLICE</td>\n",
       "    </tr>\n",
       "    <tr>\n",
       "      <th>32061</th>\n",
       "      <td>DoIT</td>\n",
       "    </tr>\n",
       "    <tr>\n",
       "      <th>32062</th>\n",
       "      <td>NaN</td>\n",
       "    </tr>\n",
       "  </tbody>\n",
       "</table>\n",
       "<p>32063 rows × 1 columns</p>\n",
       "</div>"
      ],
      "text/plain": [
       "             Department\n",
       "0           WATER MGMNT\n",
       "1                POLICE\n",
       "2                POLICE\n",
       "3      GENERAL SERVICES\n",
       "4           WATER MGMNT\n",
       "...                 ...\n",
       "32058            POLICE\n",
       "32059            POLICE\n",
       "32060            POLICE\n",
       "32061              DoIT\n",
       "32062               NaN\n",
       "\n",
       "[32063 rows x 1 columns]"
      ]
     },
     "execution_count": 9,
     "metadata": {},
     "output_type": "execute_result"
    }
   ],
   "source": [
    "chicago.loc[:, [\"Department\"]]"
   ]
  },
  {
   "cell_type": "code",
   "execution_count": 10,
   "metadata": {},
   "outputs": [
    {
     "data": {
      "text/plain": [
       "0             WATER MGMNT\n",
       "1                  POLICE\n",
       "2                  POLICE\n",
       "3        GENERAL SERVICES\n",
       "4             WATER MGMNT\n",
       "               ...       \n",
       "32058              POLICE\n",
       "32059              POLICE\n",
       "32060              POLICE\n",
       "32061                DoIT\n",
       "32062                 NaN\n",
       "Name: Department, Length: 32063, dtype: object"
      ]
     },
     "execution_count": 10,
     "metadata": {},
     "output_type": "execute_result"
    }
   ],
   "source": [
    "chicago.loc[:, \"Department\"]"
   ]
  },
  {
   "cell_type": "markdown",
   "metadata": {},
   "source": [
    "# Split Strings by Characters with .str.split() Method\n",
    "# .str.get()"
   ]
  },
  {
   "cell_type": "code",
   "execution_count": 15,
   "metadata": {},
   "outputs": [
    {
     "data": {
      "text/html": [
       "<div>\n",
       "<style scoped>\n",
       "    .dataframe tbody tr th:only-of-type {\n",
       "        vertical-align: middle;\n",
       "    }\n",
       "\n",
       "    .dataframe tbody tr th {\n",
       "        vertical-align: top;\n",
       "    }\n",
       "\n",
       "    .dataframe thead th {\n",
       "        text-align: right;\n",
       "    }\n",
       "</style>\n",
       "<table border=\"1\" class=\"dataframe\">\n",
       "  <thead>\n",
       "    <tr style=\"text-align: right;\">\n",
       "      <th></th>\n",
       "      <th>Name</th>\n",
       "      <th>Position Title</th>\n",
       "      <th>Department</th>\n",
       "      <th>Employee Annual Salary</th>\n",
       "    </tr>\n",
       "  </thead>\n",
       "  <tbody>\n",
       "    <tr>\n",
       "      <th>0</th>\n",
       "      <td>AARON,  ELVIA J</td>\n",
       "      <td>WATER RATE TAKER</td>\n",
       "      <td>WATER MGMNT</td>\n",
       "      <td>$90744.00</td>\n",
       "    </tr>\n",
       "    <tr>\n",
       "      <th>1</th>\n",
       "      <td>AARON,  JEFFERY M</td>\n",
       "      <td>POLICE OFFICER</td>\n",
       "      <td>POLICE</td>\n",
       "      <td>$84450.00</td>\n",
       "    </tr>\n",
       "    <tr>\n",
       "      <th>2</th>\n",
       "      <td>AARON,  KARINA</td>\n",
       "      <td>POLICE OFFICER</td>\n",
       "      <td>POLICE</td>\n",
       "      <td>$84450.00</td>\n",
       "    </tr>\n",
       "    <tr>\n",
       "      <th>3</th>\n",
       "      <td>AARON,  KIMBERLEI R</td>\n",
       "      <td>CHIEF CONTRACT EXPEDITER</td>\n",
       "      <td>GENERAL SERVICES</td>\n",
       "      <td>$89880.00</td>\n",
       "    </tr>\n",
       "    <tr>\n",
       "      <th>4</th>\n",
       "      <td>ABAD JR,  VICENTE M</td>\n",
       "      <td>CIVIL ENGINEER IV</td>\n",
       "      <td>WATER MGMNT</td>\n",
       "      <td>$106836.00</td>\n",
       "    </tr>\n",
       "  </tbody>\n",
       "</table>\n",
       "</div>"
      ],
      "text/plain": [
       "                  Name            Position Title        Department  \\\n",
       "0      AARON,  ELVIA J          WATER RATE TAKER       WATER MGMNT   \n",
       "1    AARON,  JEFFERY M            POLICE OFFICER            POLICE   \n",
       "2       AARON,  KARINA            POLICE OFFICER            POLICE   \n",
       "3  AARON,  KIMBERLEI R  CHIEF CONTRACT EXPEDITER  GENERAL SERVICES   \n",
       "4  ABAD JR,  VICENTE M         CIVIL ENGINEER IV       WATER MGMNT   \n",
       "\n",
       "  Employee Annual Salary  \n",
       "0              $90744.00  \n",
       "1              $84450.00  \n",
       "2              $84450.00  \n",
       "3              $89880.00  \n",
       "4             $106836.00  "
      ]
     },
     "execution_count": 15,
     "metadata": {},
     "output_type": "execute_result"
    }
   ],
   "source": [
    "chicago = pd.read_csv(filepath_or_buffer=chicago_location).dropna(axis=0, how=\"all\")\n",
    "chicago.loc[:, \"Position Title\"] = chicago[\"Position Title\"].astype(dtype=\"category\")\n",
    "chicago.loc[:, \"Department\"] = chicago[\"Department\"].astype(dtype=\"category\")\n",
    "chicago.head()"
   ]
  },
  {
   "cell_type": "code",
   "execution_count": 16,
   "metadata": {},
   "outputs": [
    {
     "name": "stdout",
     "output_type": "stream",
     "text": [
      "<class 'pandas.core.frame.DataFrame'>\n",
      "Int64Index: 32062 entries, 0 to 32061\n",
      "Data columns (total 4 columns):\n",
      " #   Column                  Non-Null Count  Dtype   \n",
      "---  ------                  --------------  -----   \n",
      " 0   Name                    32062 non-null  object  \n",
      " 1   Position Title          32062 non-null  category\n",
      " 2   Department              32062 non-null  category\n",
      " 3   Employee Annual Salary  32062 non-null  object  \n",
      "dtypes: category(2), object(2)\n",
      "memory usage: 895.4+ KB\n"
     ]
    }
   ],
   "source": [
    "chicago.info()"
   ]
  },
  {
   "cell_type": "code",
   "execution_count": 21,
   "metadata": {},
   "outputs": [
    {
     "data": {
      "text/plain": [
       "['Hello', 'my', 'name', 'is', 'Boris']"
      ]
     },
     "execution_count": 21,
     "metadata": {},
     "output_type": "execute_result"
    }
   ],
   "source": [
    "# return a list\n",
    "\"Hello my name is Boris\".split(\" \")\n",
    "\"Hello my name is Boris\".split()"
   ]
  },
  {
   "cell_type": "code",
   "execution_count": 37,
   "metadata": {},
   "outputs": [
    {
     "data": {
      "text/plain": [
       "0            [AARON,   ELVIA J]\n",
       "1          [AARON,   JEFFERY M]\n",
       "2             [AARON,   KARINA]\n",
       "3        [AARON,   KIMBERLEI R]\n",
       "4        [ABAD JR,   VICENTE M]\n",
       "                  ...          \n",
       "32057    [ZYGADLO,   MICHAEL J]\n",
       "32058     [ZYGOWICZ,   PETER J]\n",
       "32059      [ZYMANTAS,   MARK E]\n",
       "32060    [ZYRKOWSKI,   CARLO E]\n",
       "32061    [ZYSKOWSKI,   DARIUSZ]\n",
       "Name: Name, Length: 32062, dtype: object"
      ]
     },
     "execution_count": 37,
     "metadata": {},
     "output_type": "execute_result"
    }
   ],
   "source": [
    "chicago[\"Name\"].str.split(\",\")"
   ]
  },
  {
   "cell_type": "code",
   "execution_count": 38,
   "metadata": {
    "scrolled": true
   },
   "outputs": [
    {
     "data": {
      "text/plain": [
       "0            Aaron\n",
       "1            Aaron\n",
       "2            Aaron\n",
       "3            Aaron\n",
       "4          Abad Jr\n",
       "           ...    \n",
       "32057      Zygadlo\n",
       "32058     Zygowicz\n",
       "32059     Zymantas\n",
       "32060    Zyrkowski\n",
       "32061    Zyskowski\n",
       "Name: Name, Length: 32062, dtype: object"
      ]
     },
     "execution_count": 38,
     "metadata": {},
     "output_type": "execute_result"
    }
   ],
   "source": [
    "chicago[\"Name\"].str.split(pat=\",\").str.get(i=0).str.title()"
   ]
  },
  {
   "cell_type": "code",
   "execution_count": 35,
   "metadata": {},
   "outputs": [
    {
     "ename": "AttributeError",
     "evalue": "'list' object has no attribute 'get'",
     "output_type": "error",
     "traceback": [
      "\u001b[0;31m---------------------------------------------------------------------------\u001b[0m",
      "\u001b[0;31mAttributeError\u001b[0m                            Traceback (most recent call last)",
      "\u001b[0;32m<ipython-input-35-cd836fbe4322>\u001b[0m in \u001b[0;36m<module>\u001b[0;34m\u001b[0m\n\u001b[0;32m----> 1\u001b[0;31m \u001b[0;34m[\u001b[0m\u001b[0;34m\"Ha\"\u001b[0m\u001b[0;34m,\u001b[0m \u001b[0;34m\"Ni\"\u001b[0m\u001b[0;34m]\u001b[0m\u001b[0;34m.\u001b[0m\u001b[0mget\u001b[0m\u001b[0;34m(\u001b[0m\u001b[0;36m0\u001b[0m\u001b[0;34m)\u001b[0m\u001b[0;34m\u001b[0m\u001b[0;34m\u001b[0m\u001b[0m\n\u001b[0m",
      "\u001b[0;31mAttributeError\u001b[0m: 'list' object has no attribute 'get'"
     ]
    }
   ],
   "source": [
    "[\"Ha\", \"Ni\"].get(0)"
   ]
  },
  {
   "cell_type": "code",
   "execution_count": 40,
   "metadata": {},
   "outputs": [
    {
     "data": {
      "text/plain": [
       "Pepper          1\n",
       "Yanez  Jr       1\n",
       "Brzezicki       1\n",
       "O'Mara          1\n",
       "Macglashan      1\n",
       "             ... \n",
       "Jones         183\n",
       "Brown         185\n",
       "Smith         241\n",
       "Johnson       244\n",
       "Williams      293\n",
       "Name: Name, Length: 13829, dtype: int64"
      ]
     },
     "execution_count": 40,
     "metadata": {},
     "output_type": "execute_result"
    }
   ],
   "source": [
    "chicago[\"Name\"].str.split(\",\", expland=False).str.get(0).str.title().value_counts(ascending=True)"
   ]
  },
  {
   "cell_type": "code",
   "execution_count": 45,
   "metadata": {},
   "outputs": [
    {
     "data": {
      "text/plain": [
       "<AxesSubplot:>"
      ]
     },
     "execution_count": 45,
     "metadata": {},
     "output_type": "execute_result"
    },
    {
     "data": {
      "image/png": "[encoded data removed]",
      "text/plain": [
       "<Figure size 432x288 with 1 Axes>"
      ]
     },
     "metadata": {
      "needs_background": "light"
     },
     "output_type": "display_data"
    }
   ],
   "source": [
    "chicago.loc[:, \"Position Title\"].str.split(\" \").str.get(0).value_counts().hist()"
   ]
  },
  {
   "cell_type": "code",
   "execution_count": 56,
   "metadata": {},
   "outputs": [
    {
     "data": {
      "text/plain": [
       "'WATER MGMNT'"
      ]
     },
     "execution_count": 56,
     "metadata": {},
     "output_type": "execute_result"
    }
   ],
   "source": [
    "chicago[\"Department\"].get(key=0)"
   ]
  },
  {
   "cell_type": "code",
   "execution_count": 57,
   "metadata": {},
   "outputs": [
    {
     "data": {
      "text/html": [
       "<div>\n",
       "<style scoped>\n",
       "    .dataframe tbody tr th:only-of-type {\n",
       "        vertical-align: middle;\n",
       "    }\n",
       "\n",
       "    .dataframe tbody tr th {\n",
       "        vertical-align: top;\n",
       "    }\n",
       "\n",
       "    .dataframe thead th {\n",
       "        text-align: right;\n",
       "    }\n",
       "</style>\n",
       "<table border=\"1\" class=\"dataframe\">\n",
       "  <thead>\n",
       "    <tr style=\"text-align: right;\">\n",
       "      <th></th>\n",
       "      <th>Name</th>\n",
       "      <th>Department</th>\n",
       "    </tr>\n",
       "  </thead>\n",
       "  <tbody>\n",
       "    <tr>\n",
       "      <th>0</th>\n",
       "      <td>AARON,  ELVIA J</td>\n",
       "      <td>WATER MGMNT</td>\n",
       "    </tr>\n",
       "    <tr>\n",
       "      <th>1</th>\n",
       "      <td>AARON,  JEFFERY M</td>\n",
       "      <td>POLICE</td>\n",
       "    </tr>\n",
       "    <tr>\n",
       "      <th>2</th>\n",
       "      <td>AARON,  KARINA</td>\n",
       "      <td>POLICE</td>\n",
       "    </tr>\n",
       "    <tr>\n",
       "      <th>3</th>\n",
       "      <td>AARON,  KIMBERLEI R</td>\n",
       "      <td>GENERAL SERVICES</td>\n",
       "    </tr>\n",
       "    <tr>\n",
       "      <th>4</th>\n",
       "      <td>ABAD JR,  VICENTE M</td>\n",
       "      <td>WATER MGMNT</td>\n",
       "    </tr>\n",
       "    <tr>\n",
       "      <th>...</th>\n",
       "      <td>...</td>\n",
       "      <td>...</td>\n",
       "    </tr>\n",
       "    <tr>\n",
       "      <th>32057</th>\n",
       "      <td>ZYGADLO,  MICHAEL J</td>\n",
       "      <td>GENERAL SERVICES</td>\n",
       "    </tr>\n",
       "    <tr>\n",
       "      <th>32058</th>\n",
       "      <td>ZYGOWICZ,  PETER J</td>\n",
       "      <td>POLICE</td>\n",
       "    </tr>\n",
       "    <tr>\n",
       "      <th>32059</th>\n",
       "      <td>ZYMANTAS,  MARK E</td>\n",
       "      <td>POLICE</td>\n",
       "    </tr>\n",
       "    <tr>\n",
       "      <th>32060</th>\n",
       "      <td>ZYRKOWSKI,  CARLO E</td>\n",
       "      <td>POLICE</td>\n",
       "    </tr>\n",
       "    <tr>\n",
       "      <th>32061</th>\n",
       "      <td>ZYSKOWSKI,  DARIUSZ</td>\n",
       "      <td>DoIT</td>\n",
       "    </tr>\n",
       "  </tbody>\n",
       "</table>\n",
       "<p>32062 rows × 2 columns</p>\n",
       "</div>"
      ],
      "text/plain": [
       "                      Name        Department\n",
       "0          AARON,  ELVIA J       WATER MGMNT\n",
       "1        AARON,  JEFFERY M            POLICE\n",
       "2           AARON,  KARINA            POLICE\n",
       "3      AARON,  KIMBERLEI R  GENERAL SERVICES\n",
       "4      ABAD JR,  VICENTE M       WATER MGMNT\n",
       "...                    ...               ...\n",
       "32057  ZYGADLO,  MICHAEL J  GENERAL SERVICES\n",
       "32058   ZYGOWICZ,  PETER J            POLICE\n",
       "32059    ZYMANTAS,  MARK E            POLICE\n",
       "32060  ZYRKOWSKI,  CARLO E            POLICE\n",
       "32061  ZYSKOWSKI,  DARIUSZ              DoIT\n",
       "\n",
       "[32062 rows x 2 columns]"
      ]
     },
     "execution_count": 57,
     "metadata": {},
     "output_type": "execute_result"
    }
   ],
   "source": [
    "chicago.get(key=[\"Name\", \"Department\"])"
   ]
  },
  {
   "cell_type": "code",
   "execution_count": 58,
   "metadata": {},
   "outputs": [
    {
     "data": {
      "text/html": [
       "<div>\n",
       "<style scoped>\n",
       "    .dataframe tbody tr th:only-of-type {\n",
       "        vertical-align: middle;\n",
       "    }\n",
       "\n",
       "    .dataframe tbody tr th {\n",
       "        vertical-align: top;\n",
       "    }\n",
       "\n",
       "    .dataframe thead th {\n",
       "        text-align: right;\n",
       "    }\n",
       "</style>\n",
       "<table border=\"1\" class=\"dataframe\">\n",
       "  <thead>\n",
       "    <tr style=\"text-align: right;\">\n",
       "      <th></th>\n",
       "      <th>Name</th>\n",
       "      <th>Department</th>\n",
       "    </tr>\n",
       "  </thead>\n",
       "  <tbody>\n",
       "    <tr>\n",
       "      <th>0</th>\n",
       "      <td>AARON,  ELVIA J</td>\n",
       "      <td>WATER MGMNT</td>\n",
       "    </tr>\n",
       "    <tr>\n",
       "      <th>1</th>\n",
       "      <td>AARON,  JEFFERY M</td>\n",
       "      <td>POLICE</td>\n",
       "    </tr>\n",
       "    <tr>\n",
       "      <th>2</th>\n",
       "      <td>AARON,  KARINA</td>\n",
       "      <td>POLICE</td>\n",
       "    </tr>\n",
       "    <tr>\n",
       "      <th>3</th>\n",
       "      <td>AARON,  KIMBERLEI R</td>\n",
       "      <td>GENERAL SERVICES</td>\n",
       "    </tr>\n",
       "    <tr>\n",
       "      <th>4</th>\n",
       "      <td>ABAD JR,  VICENTE M</td>\n",
       "      <td>WATER MGMNT</td>\n",
       "    </tr>\n",
       "    <tr>\n",
       "      <th>...</th>\n",
       "      <td>...</td>\n",
       "      <td>...</td>\n",
       "    </tr>\n",
       "    <tr>\n",
       "      <th>32057</th>\n",
       "      <td>ZYGADLO,  MICHAEL J</td>\n",
       "      <td>GENERAL SERVICES</td>\n",
       "    </tr>\n",
       "    <tr>\n",
       "      <th>32058</th>\n",
       "      <td>ZYGOWICZ,  PETER J</td>\n",
       "      <td>POLICE</td>\n",
       "    </tr>\n",
       "    <tr>\n",
       "      <th>32059</th>\n",
       "      <td>ZYMANTAS,  MARK E</td>\n",
       "      <td>POLICE</td>\n",
       "    </tr>\n",
       "    <tr>\n",
       "      <th>32060</th>\n",
       "      <td>ZYRKOWSKI,  CARLO E</td>\n",
       "      <td>POLICE</td>\n",
       "    </tr>\n",
       "    <tr>\n",
       "      <th>32061</th>\n",
       "      <td>ZYSKOWSKI,  DARIUSZ</td>\n",
       "      <td>DoIT</td>\n",
       "    </tr>\n",
       "  </tbody>\n",
       "</table>\n",
       "<p>32062 rows × 2 columns</p>\n",
       "</div>"
      ],
      "text/plain": [
       "                      Name        Department\n",
       "0          AARON,  ELVIA J       WATER MGMNT\n",
       "1        AARON,  JEFFERY M            POLICE\n",
       "2           AARON,  KARINA            POLICE\n",
       "3      AARON,  KIMBERLEI R  GENERAL SERVICES\n",
       "4      ABAD JR,  VICENTE M       WATER MGMNT\n",
       "...                    ...               ...\n",
       "32057  ZYGADLO,  MICHAEL J  GENERAL SERVICES\n",
       "32058   ZYGOWICZ,  PETER J            POLICE\n",
       "32059    ZYMANTAS,  MARK E            POLICE\n",
       "32060  ZYRKOWSKI,  CARLO E            POLICE\n",
       "32061  ZYSKOWSKI,  DARIUSZ              DoIT\n",
       "\n",
       "[32062 rows x 2 columns]"
      ]
     },
     "execution_count": 58,
     "metadata": {},
     "output_type": "execute_result"
    }
   ],
   "source": [
    "chicago[[\"Name\", \"Department\"]]"
   ]
  },
  {
   "cell_type": "code",
   "execution_count": 59,
   "metadata": {},
   "outputs": [
    {
     "data": {
      "text/html": [
       "<div>\n",
       "<style scoped>\n",
       "    .dataframe tbody tr th:only-of-type {\n",
       "        vertical-align: middle;\n",
       "    }\n",
       "\n",
       "    .dataframe tbody tr th {\n",
       "        vertical-align: top;\n",
       "    }\n",
       "\n",
       "    .dataframe thead th {\n",
       "        text-align: right;\n",
       "    }\n",
       "</style>\n",
       "<table border=\"1\" class=\"dataframe\">\n",
       "  <thead>\n",
       "    <tr style=\"text-align: right;\">\n",
       "      <th></th>\n",
       "      <th>Name</th>\n",
       "      <th>Department</th>\n",
       "    </tr>\n",
       "  </thead>\n",
       "  <tbody>\n",
       "    <tr>\n",
       "      <th>0</th>\n",
       "      <td>AARON,  ELVIA J</td>\n",
       "      <td>WATER MGMNT</td>\n",
       "    </tr>\n",
       "    <tr>\n",
       "      <th>1</th>\n",
       "      <td>AARON,  JEFFERY M</td>\n",
       "      <td>POLICE</td>\n",
       "    </tr>\n",
       "    <tr>\n",
       "      <th>2</th>\n",
       "      <td>AARON,  KARINA</td>\n",
       "      <td>POLICE</td>\n",
       "    </tr>\n",
       "    <tr>\n",
       "      <th>3</th>\n",
       "      <td>AARON,  KIMBERLEI R</td>\n",
       "      <td>GENERAL SERVICES</td>\n",
       "    </tr>\n",
       "    <tr>\n",
       "      <th>4</th>\n",
       "      <td>ABAD JR,  VICENTE M</td>\n",
       "      <td>WATER MGMNT</td>\n",
       "    </tr>\n",
       "    <tr>\n",
       "      <th>...</th>\n",
       "      <td>...</td>\n",
       "      <td>...</td>\n",
       "    </tr>\n",
       "    <tr>\n",
       "      <th>32057</th>\n",
       "      <td>ZYGADLO,  MICHAEL J</td>\n",
       "      <td>GENERAL SERVICES</td>\n",
       "    </tr>\n",
       "    <tr>\n",
       "      <th>32058</th>\n",
       "      <td>ZYGOWICZ,  PETER J</td>\n",
       "      <td>POLICE</td>\n",
       "    </tr>\n",
       "    <tr>\n",
       "      <th>32059</th>\n",
       "      <td>ZYMANTAS,  MARK E</td>\n",
       "      <td>POLICE</td>\n",
       "    </tr>\n",
       "    <tr>\n",
       "      <th>32060</th>\n",
       "      <td>ZYRKOWSKI,  CARLO E</td>\n",
       "      <td>POLICE</td>\n",
       "    </tr>\n",
       "    <tr>\n",
       "      <th>32061</th>\n",
       "      <td>ZYSKOWSKI,  DARIUSZ</td>\n",
       "      <td>DoIT</td>\n",
       "    </tr>\n",
       "  </tbody>\n",
       "</table>\n",
       "<p>32062 rows × 2 columns</p>\n",
       "</div>"
      ],
      "text/plain": [
       "                      Name        Department\n",
       "0          AARON,  ELVIA J       WATER MGMNT\n",
       "1        AARON,  JEFFERY M            POLICE\n",
       "2           AARON,  KARINA            POLICE\n",
       "3      AARON,  KIMBERLEI R  GENERAL SERVICES\n",
       "4      ABAD JR,  VICENTE M       WATER MGMNT\n",
       "...                    ...               ...\n",
       "32057  ZYGADLO,  MICHAEL J  GENERAL SERVICES\n",
       "32058   ZYGOWICZ,  PETER J            POLICE\n",
       "32059    ZYMANTAS,  MARK E            POLICE\n",
       "32060  ZYRKOWSKI,  CARLO E            POLICE\n",
       "32061  ZYSKOWSKI,  DARIUSZ              DoIT\n",
       "\n",
       "[32062 rows x 2 columns]"
      ]
     },
     "execution_count": 59,
     "metadata": {},
     "output_type": "execute_result"
    }
   ],
   "source": [
    "chicago.loc[:, [\"Name\", \"Department\"]]"
   ]
  },
  {
   "cell_type": "markdown",
   "metadata": {},
   "source": [
    "# More Practice with Splits"
   ]
  },
  {
   "cell_type": "code",
   "execution_count": 64,
   "metadata": {},
   "outputs": [
    {
     "data": {
      "text/plain": [
       "WILLIAMS    293\n",
       "JOHNSON     244\n",
       "SMITH       241\n",
       "BROWN       185\n",
       "JONES       183\n",
       "Name: Name, dtype: int64"
      ]
     },
     "execution_count": 64,
     "metadata": {},
     "output_type": "execute_result"
    }
   ],
   "source": [
    "chicago[\"Name\"].str.split(\",\").str.get(0).value_counts().head()"
   ]
  },
  {
   "cell_type": "code",
   "execution_count": 72,
   "metadata": {},
   "outputs": [
    {
     "data": {
      "text/plain": [
       "MICHAEL        1153\n",
       "JOHN            899\n",
       "JAMES           676\n",
       "ROBERT          622\n",
       "JOSEPH          537\n",
       "               ... \n",
       "LYNAI             1\n",
       "ELISSA            1\n",
       "ALEJANDRINO       1\n",
       "VALORI            1\n",
       "RAHMON            1\n",
       "Name: Name, Length: 5091, dtype: int64"
      ]
     },
     "execution_count": 72,
     "metadata": {},
     "output_type": "execute_result"
    }
   ],
   "source": [
    "chicago[\"Name\"].str.split(\",\").str.get(1).str.strip().str.split(\" \").str.get(0).value_counts()"
   ]
  },
  {
   "cell_type": "markdown",
   "metadata": {},
   "source": [
    "# The expand and n Parameters of the .str.split() Method\n",
    "# .str.rsplit(pat=, expand=, n=) \n",
    "# NO .str.lsplit()"
   ]
  },
  {
   "cell_type": "code",
   "execution_count": 78,
   "metadata": {},
   "outputs": [
    {
     "data": {
      "text/html": [
       "<div>\n",
       "<style scoped>\n",
       "    .dataframe tbody tr th:only-of-type {\n",
       "        vertical-align: middle;\n",
       "    }\n",
       "\n",
       "    .dataframe tbody tr th {\n",
       "        vertical-align: top;\n",
       "    }\n",
       "\n",
       "    .dataframe thead th {\n",
       "        text-align: right;\n",
       "    }\n",
       "</style>\n",
       "<table border=\"1\" class=\"dataframe\">\n",
       "  <thead>\n",
       "    <tr style=\"text-align: right;\">\n",
       "      <th></th>\n",
       "      <th>0</th>\n",
       "      <th>1</th>\n",
       "    </tr>\n",
       "  </thead>\n",
       "  <tbody>\n",
       "    <tr>\n",
       "      <th>0</th>\n",
       "      <td>AARON</td>\n",
       "      <td>ELVIA J</td>\n",
       "    </tr>\n",
       "    <tr>\n",
       "      <th>1</th>\n",
       "      <td>AARON</td>\n",
       "      <td>JEFFERY M</td>\n",
       "    </tr>\n",
       "    <tr>\n",
       "      <th>2</th>\n",
       "      <td>AARON</td>\n",
       "      <td>KARINA</td>\n",
       "    </tr>\n",
       "    <tr>\n",
       "      <th>3</th>\n",
       "      <td>AARON</td>\n",
       "      <td>KIMBERLEI R</td>\n",
       "    </tr>\n",
       "    <tr>\n",
       "      <th>4</th>\n",
       "      <td>ABAD JR</td>\n",
       "      <td>VICENTE M</td>\n",
       "    </tr>\n",
       "    <tr>\n",
       "      <th>...</th>\n",
       "      <td>...</td>\n",
       "      <td>...</td>\n",
       "    </tr>\n",
       "    <tr>\n",
       "      <th>32057</th>\n",
       "      <td>ZYGADLO</td>\n",
       "      <td>MICHAEL J</td>\n",
       "    </tr>\n",
       "    <tr>\n",
       "      <th>32058</th>\n",
       "      <td>ZYGOWICZ</td>\n",
       "      <td>PETER J</td>\n",
       "    </tr>\n",
       "    <tr>\n",
       "      <th>32059</th>\n",
       "      <td>ZYMANTAS</td>\n",
       "      <td>MARK E</td>\n",
       "    </tr>\n",
       "    <tr>\n",
       "      <th>32060</th>\n",
       "      <td>ZYRKOWSKI</td>\n",
       "      <td>CARLO E</td>\n",
       "    </tr>\n",
       "    <tr>\n",
       "      <th>32061</th>\n",
       "      <td>ZYSKOWSKI</td>\n",
       "      <td>DARIUSZ</td>\n",
       "    </tr>\n",
       "  </tbody>\n",
       "</table>\n",
       "<p>32062 rows × 2 columns</p>\n",
       "</div>"
      ],
      "text/plain": [
       "               0              1\n",
       "0          AARON        ELVIA J\n",
       "1          AARON      JEFFERY M\n",
       "2          AARON         KARINA\n",
       "3          AARON    KIMBERLEI R\n",
       "4        ABAD JR      VICENTE M\n",
       "...          ...            ...\n",
       "32057    ZYGADLO      MICHAEL J\n",
       "32058   ZYGOWICZ        PETER J\n",
       "32059   ZYMANTAS         MARK E\n",
       "32060  ZYRKOWSKI        CARLO E\n",
       "32061  ZYSKOWSKI        DARIUSZ\n",
       "\n",
       "[32062 rows x 2 columns]"
      ]
     },
     "execution_count": 78,
     "metadata": {},
     "output_type": "execute_result"
    }
   ],
   "source": [
    "# by default, expand=False\n",
    "# If True, return DataFrame/MultiIndex expanding dimensionality.\n",
    "# If False, return Series/Index, containing lists of strings.\n",
    "chicago[\"Name\"].str.split(pat=\",\", expand=True)"
   ]
  },
  {
   "cell_type": "code",
   "execution_count": 79,
   "metadata": {},
   "outputs": [],
   "source": [
    "chicago[[\"First Name\", \"Last Name\"]] = chicago[\"Name\"].str.split(pat=\",\", expand=True)"
   ]
  },
  {
   "cell_type": "code",
   "execution_count": 83,
   "metadata": {},
   "outputs": [
    {
     "data": {
      "text/html": [
       "<div>\n",
       "<style scoped>\n",
       "    .dataframe tbody tr th:only-of-type {\n",
       "        vertical-align: middle;\n",
       "    }\n",
       "\n",
       "    .dataframe tbody tr th {\n",
       "        vertical-align: top;\n",
       "    }\n",
       "\n",
       "    .dataframe thead th {\n",
       "        text-align: right;\n",
       "    }\n",
       "</style>\n",
       "<table border=\"1\" class=\"dataframe\">\n",
       "  <thead>\n",
       "    <tr style=\"text-align: right;\">\n",
       "      <th></th>\n",
       "      <th>Name</th>\n",
       "      <th>Position Title</th>\n",
       "      <th>Department</th>\n",
       "      <th>Employee Annual Salary</th>\n",
       "      <th>First Name</th>\n",
       "      <th>Last Name</th>\n",
       "    </tr>\n",
       "  </thead>\n",
       "  <tbody>\n",
       "    <tr>\n",
       "      <th>0</th>\n",
       "      <td>AARON,  ELVIA J</td>\n",
       "      <td>WATER RATE TAKER</td>\n",
       "      <td>WATER MGMNT</td>\n",
       "      <td>$90744.00</td>\n",
       "      <td>AARON</td>\n",
       "      <td>ELVIA J</td>\n",
       "    </tr>\n",
       "    <tr>\n",
       "      <th>1</th>\n",
       "      <td>AARON,  JEFFERY M</td>\n",
       "      <td>POLICE OFFICER</td>\n",
       "      <td>POLICE</td>\n",
       "      <td>$84450.00</td>\n",
       "      <td>AARON</td>\n",
       "      <td>JEFFERY M</td>\n",
       "    </tr>\n",
       "    <tr>\n",
       "      <th>2</th>\n",
       "      <td>AARON,  KARINA</td>\n",
       "      <td>POLICE OFFICER</td>\n",
       "      <td>POLICE</td>\n",
       "      <td>$84450.00</td>\n",
       "      <td>AARON</td>\n",
       "      <td>KARINA</td>\n",
       "    </tr>\n",
       "    <tr>\n",
       "      <th>3</th>\n",
       "      <td>AARON,  KIMBERLEI R</td>\n",
       "      <td>CHIEF CONTRACT EXPEDITER</td>\n",
       "      <td>GENERAL SERVICES</td>\n",
       "      <td>$89880.00</td>\n",
       "      <td>AARON</td>\n",
       "      <td>KIMBERLEI R</td>\n",
       "    </tr>\n",
       "    <tr>\n",
       "      <th>4</th>\n",
       "      <td>ABAD JR,  VICENTE M</td>\n",
       "      <td>CIVIL ENGINEER IV</td>\n",
       "      <td>WATER MGMNT</td>\n",
       "      <td>$106836.00</td>\n",
       "      <td>ABAD JR</td>\n",
       "      <td>VICENTE M</td>\n",
       "    </tr>\n",
       "  </tbody>\n",
       "</table>\n",
       "</div>"
      ],
      "text/plain": [
       "                  Name            Position Title        Department  \\\n",
       "0      AARON,  ELVIA J          WATER RATE TAKER       WATER MGMNT   \n",
       "1    AARON,  JEFFERY M            POLICE OFFICER            POLICE   \n",
       "2       AARON,  KARINA            POLICE OFFICER            POLICE   \n",
       "3  AARON,  KIMBERLEI R  CHIEF CONTRACT EXPEDITER  GENERAL SERVICES   \n",
       "4  ABAD JR,  VICENTE M         CIVIL ENGINEER IV       WATER MGMNT   \n",
       "\n",
       "  Employee Annual Salary First Name      Last Name  \n",
       "0              $90744.00      AARON        ELVIA J  \n",
       "1              $84450.00      AARON      JEFFERY M  \n",
       "2              $84450.00      AARON         KARINA  \n",
       "3              $89880.00      AARON    KIMBERLEI R  \n",
       "4             $106836.00    ABAD JR      VICENTE M  "
      ]
     },
     "execution_count": 83,
     "metadata": {},
     "output_type": "execute_result"
    }
   ],
   "source": [
    "chicago.head()"
   ]
  },
  {
   "cell_type": "code",
   "execution_count": 90,
   "metadata": {},
   "outputs": [
    {
     "data": {
      "text/html": [
       "<div>\n",
       "<style scoped>\n",
       "    .dataframe tbody tr th:only-of-type {\n",
       "        vertical-align: middle;\n",
       "    }\n",
       "\n",
       "    .dataframe tbody tr th {\n",
       "        vertical-align: top;\n",
       "    }\n",
       "\n",
       "    .dataframe thead th {\n",
       "        text-align: right;\n",
       "    }\n",
       "</style>\n",
       "<table border=\"1\" class=\"dataframe\">\n",
       "  <thead>\n",
       "    <tr style=\"text-align: right;\">\n",
       "      <th></th>\n",
       "      <th>0</th>\n",
       "      <th>1</th>\n",
       "    </tr>\n",
       "  </thead>\n",
       "  <tbody>\n",
       "    <tr>\n",
       "      <th>0</th>\n",
       "      <td>WATER</td>\n",
       "      <td>RATE TAKER</td>\n",
       "    </tr>\n",
       "    <tr>\n",
       "      <th>1</th>\n",
       "      <td>POLICE</td>\n",
       "      <td>OFFICER</td>\n",
       "    </tr>\n",
       "    <tr>\n",
       "      <th>2</th>\n",
       "      <td>POLICE</td>\n",
       "      <td>OFFICER</td>\n",
       "    </tr>\n",
       "    <tr>\n",
       "      <th>3</th>\n",
       "      <td>CHIEF</td>\n",
       "      <td>CONTRACT EXPEDITER</td>\n",
       "    </tr>\n",
       "    <tr>\n",
       "      <th>4</th>\n",
       "      <td>CIVIL</td>\n",
       "      <td>ENGINEER IV</td>\n",
       "    </tr>\n",
       "    <tr>\n",
       "      <th>...</th>\n",
       "      <td>...</td>\n",
       "      <td>...</td>\n",
       "    </tr>\n",
       "    <tr>\n",
       "      <th>32057</th>\n",
       "      <td>FRM</td>\n",
       "      <td>OF MACHINISTS - AUTOMOTIVE</td>\n",
       "    </tr>\n",
       "    <tr>\n",
       "      <th>32058</th>\n",
       "      <td>POLICE</td>\n",
       "      <td>OFFICER</td>\n",
       "    </tr>\n",
       "    <tr>\n",
       "      <th>32059</th>\n",
       "      <td>POLICE</td>\n",
       "      <td>OFFICER</td>\n",
       "    </tr>\n",
       "    <tr>\n",
       "      <th>32060</th>\n",
       "      <td>POLICE</td>\n",
       "      <td>OFFICER</td>\n",
       "    </tr>\n",
       "    <tr>\n",
       "      <th>32061</th>\n",
       "      <td>CHIEF</td>\n",
       "      <td>DATA BASE ANALYST</td>\n",
       "    </tr>\n",
       "  </tbody>\n",
       "</table>\n",
       "<p>32062 rows × 2 columns</p>\n",
       "</div>"
      ],
      "text/plain": [
       "            0                           1\n",
       "0       WATER                  RATE TAKER\n",
       "1      POLICE                     OFFICER\n",
       "2      POLICE                     OFFICER\n",
       "3       CHIEF          CONTRACT EXPEDITER\n",
       "4       CIVIL                 ENGINEER IV\n",
       "...       ...                         ...\n",
       "32057     FRM  OF MACHINISTS - AUTOMOTIVE\n",
       "32058  POLICE                     OFFICER\n",
       "32059  POLICE                     OFFICER\n",
       "32060  POLICE                     OFFICER\n",
       "32061   CHIEF           DATA BASE ANALYST\n",
       "\n",
       "[32062 rows x 2 columns]"
      ]
     },
     "execution_count": 90,
     "metadata": {},
     "output_type": "execute_result"
    }
   ],
   "source": [
    "# n means the maximum split that wanting to take\n",
    "chicago.loc[:, \"Position Title\"].str.split(pat=\" \", expand=True, n=1)"
   ]
  },
  {
   "cell_type": "code",
   "execution_count": 97,
   "metadata": {},
   "outputs": [],
   "source": [
    "chicago[[\"First Title World\", \"Remaining Words\"]] = chicago.loc[:, \"Position Title\"].str.split(pat=\" \", expand=True, n=1)"
   ]
  },
  {
   "cell_type": "code",
   "execution_count": 99,
   "metadata": {},
   "outputs": [
    {
     "data": {
      "text/html": [
       "<div>\n",
       "<style scoped>\n",
       "    .dataframe tbody tr th:only-of-type {\n",
       "        vertical-align: middle;\n",
       "    }\n",
       "\n",
       "    .dataframe tbody tr th {\n",
       "        vertical-align: top;\n",
       "    }\n",
       "\n",
       "    .dataframe thead th {\n",
       "        text-align: right;\n",
       "    }\n",
       "</style>\n",
       "<table border=\"1\" class=\"dataframe\">\n",
       "  <thead>\n",
       "    <tr style=\"text-align: right;\">\n",
       "      <th></th>\n",
       "      <th>Name</th>\n",
       "      <th>Position Title</th>\n",
       "      <th>Department</th>\n",
       "      <th>Employee Annual Salary</th>\n",
       "      <th>First Name</th>\n",
       "      <th>Last Name</th>\n",
       "      <th>First Title World</th>\n",
       "      <th>Remaining Words</th>\n",
       "    </tr>\n",
       "  </thead>\n",
       "  <tbody>\n",
       "    <tr>\n",
       "      <th>0</th>\n",
       "      <td>AARON,  ELVIA J</td>\n",
       "      <td>WATER RATE TAKER</td>\n",
       "      <td>WATER MGMNT</td>\n",
       "      <td>$90744.00</td>\n",
       "      <td>AARON</td>\n",
       "      <td>ELVIA J</td>\n",
       "      <td>WATER</td>\n",
       "      <td>RATE TAKER</td>\n",
       "    </tr>\n",
       "    <tr>\n",
       "      <th>1</th>\n",
       "      <td>AARON,  JEFFERY M</td>\n",
       "      <td>POLICE OFFICER</td>\n",
       "      <td>POLICE</td>\n",
       "      <td>$84450.00</td>\n",
       "      <td>AARON</td>\n",
       "      <td>JEFFERY M</td>\n",
       "      <td>POLICE</td>\n",
       "      <td>OFFICER</td>\n",
       "    </tr>\n",
       "    <tr>\n",
       "      <th>2</th>\n",
       "      <td>AARON,  KARINA</td>\n",
       "      <td>POLICE OFFICER</td>\n",
       "      <td>POLICE</td>\n",
       "      <td>$84450.00</td>\n",
       "      <td>AARON</td>\n",
       "      <td>KARINA</td>\n",
       "      <td>POLICE</td>\n",
       "      <td>OFFICER</td>\n",
       "    </tr>\n",
       "    <tr>\n",
       "      <th>3</th>\n",
       "      <td>AARON,  KIMBERLEI R</td>\n",
       "      <td>CHIEF CONTRACT EXPEDITER</td>\n",
       "      <td>GENERAL SERVICES</td>\n",
       "      <td>$89880.00</td>\n",
       "      <td>AARON</td>\n",
       "      <td>KIMBERLEI R</td>\n",
       "      <td>CHIEF</td>\n",
       "      <td>CONTRACT EXPEDITER</td>\n",
       "    </tr>\n",
       "    <tr>\n",
       "      <th>4</th>\n",
       "      <td>ABAD JR,  VICENTE M</td>\n",
       "      <td>CIVIL ENGINEER IV</td>\n",
       "      <td>WATER MGMNT</td>\n",
       "      <td>$106836.00</td>\n",
       "      <td>ABAD JR</td>\n",
       "      <td>VICENTE M</td>\n",
       "      <td>CIVIL</td>\n",
       "      <td>ENGINEER IV</td>\n",
       "    </tr>\n",
       "  </tbody>\n",
       "</table>\n",
       "</div>"
      ],
      "text/plain": [
       "                  Name            Position Title        Department  \\\n",
       "0      AARON,  ELVIA J          WATER RATE TAKER       WATER MGMNT   \n",
       "1    AARON,  JEFFERY M            POLICE OFFICER            POLICE   \n",
       "2       AARON,  KARINA            POLICE OFFICER            POLICE   \n",
       "3  AARON,  KIMBERLEI R  CHIEF CONTRACT EXPEDITER  GENERAL SERVICES   \n",
       "4  ABAD JR,  VICENTE M         CIVIL ENGINEER IV       WATER MGMNT   \n",
       "\n",
       "  Employee Annual Salary First Name      Last Name First Title World  \\\n",
       "0              $90744.00      AARON        ELVIA J             WATER   \n",
       "1              $84450.00      AARON      JEFFERY M            POLICE   \n",
       "2              $84450.00      AARON         KARINA            POLICE   \n",
       "3              $89880.00      AARON    KIMBERLEI R             CHIEF   \n",
       "4             $106836.00    ABAD JR      VICENTE M             CIVIL   \n",
       "\n",
       "      Remaining Words  \n",
       "0          RATE TAKER  \n",
       "1             OFFICER  \n",
       "2             OFFICER  \n",
       "3  CONTRACT EXPEDITER  \n",
       "4         ENGINEER IV  "
      ]
     },
     "execution_count": 99,
     "metadata": {},
     "output_type": "execute_result"
    }
   ],
   "source": [
    "chicago.head()"
   ]
  },
  {
   "cell_type": "code",
   "execution_count": null,
   "metadata": {},
   "outputs": [],
   "source": []
  },
  {
   "cell_type": "code",
   "execution_count": null,
   "metadata": {},
   "outputs": [],
   "source": []
  },
  {
   "cell_type": "code",
   "execution_count": null,
   "metadata": {},
   "outputs": [],
   "source": []
  },
  {
   "cell_type": "code",
   "execution_count": null,
   "metadata": {},
   "outputs": [],
   "source": []
  },
  {
   "cell_type": "code",
   "execution_count": null,
   "metadata": {},
   "outputs": [],
   "source": []
  },
  {
   "cell_type": "code",
   "execution_count": null,
   "metadata": {},
   "outputs": [],
   "source": []
  },
  {
   "cell_type": "code",
   "execution_count": null,
   "metadata": {},
   "outputs": [],
   "source": []
  },
  {
   "cell_type": "code",
   "execution_count": null,
   "metadata": {},
   "outputs": [],
   "source": []
  },
  {
   "cell_type": "code",
   "execution_count": null,
   "metadata": {},
   "outputs": [],
   "source": []
  }
 ],
 "metadata": {
  "kernelspec": {
   "display_name": "Python 3",
   "language": "python",
   "name": "python3"
  },
  "language_info": {
   "codemirror_mode": {
    "name": "ipython",
    "version": 3
   },
   "file_extension": ".py",
   "mimetype": "text/x-python",
   "name": "python",
   "nbconvert_exporter": "python",
   "pygments_lexer": "ipython3",
   "version": "3.8.8"
  }
 },
 "nbformat": 4,
 "nbformat_minor": 4
}
